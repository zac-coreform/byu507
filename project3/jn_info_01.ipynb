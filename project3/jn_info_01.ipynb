{
 "cells": [
  {
   "cell_type": "code",
   "execution_count": 1,
   "metadata": {},
   "outputs": [],
   "source": [
    "import p3Basis_Functions_2D as bf\n",
    "import p3Gauss_Quadrature_2D as gq\n",
    "import p3Boundary_Conditions as bc\n",
    "import p3Diffusion_2D as d2\n",
    "import p3Surface_Mesh as sm\n",
    "import numpy as np\n",
    "import inspect"
   ]
  },
  {
   "cell_type": "code",
   "execution_count": 2,
   "metadata": {},
   "outputs": [],
   "source": [
    "prob3 = d2.run_problem(3)\n",
    "m3 = prob3.mesh\n",
    "bounds3 = prob3.boundaries"
   ]
  },
  {
   "cell_type": "markdown",
   "metadata": {},
   "source": [
    "![title](_mesh-image-project3.png)"
   ]
  },
  {
   "cell_type": "code",
   "execution_count": 11,
   "metadata": {},
   "outputs": [
    {
     "data": {
      "text/plain": [
       "[0, 3, 4, 5, 6, 7, 8, 10, 11, 12, 13, 14]"
      ]
     },
     "execution_count": 11,
     "metadata": {},
     "output_type": "execute_result"
    }
   ],
   "source": [
    "m3.boundary_vertices()\n",
    "\n",
    "# vertex_is_boundary"
   ]
  },
  {
   "cell_type": "code",
   "execution_count": 10,
   "metadata": {},
   "outputs": [
    {
     "data": {
      "text/plain": [
       "[(11, 12),\n",
       " (5, 4),\n",
       " (8, 7),\n",
       " (0, 3),\n",
       " (6, 5),\n",
       " (4, 11),\n",
       " (10, 0),\n",
       " (13, 14),\n",
       " (7, 6),\n",
       " (3, 8),\n",
       " (14, 10),\n",
       " (12, 13)]"
      ]
     },
     "execution_count": 10,
     "metadata": {},
     "output_type": "execute_result"
    }
   ],
   "source": [
    "m3.boundary_edges()"
   ]
  },
  {
   "cell_type": "code",
   "execution_count": 3,
   "metadata": {},
   "outputs": [
    {
     "data": {
      "text/plain": [
       "array([[ 0,  1,  2,  3],\n",
       "       [ 4,  5,  2,  1],\n",
       "       [ 5,  6,  7,  2],\n",
       "       [ 7,  8,  3,  2],\n",
       "       [10,  9,  1,  0],\n",
       "       [ 1,  9, 11,  4],\n",
       "       [ 9, 13, 12, 11],\n",
       "       [ 9, 10, 14, 13]])"
      ]
     },
     "execution_count": 3,
     "metadata": {},
     "output_type": "execute_result"
    }
   ],
   "source": [
    "m3.faces"
   ]
  },
  {
   "cell_type": "code",
   "execution_count": 20,
   "metadata": {},
   "outputs": [
    {
     "data": {
      "text/plain": [
       "1"
      ]
     },
     "execution_count": 20,
     "metadata": {},
     "output_type": "execute_result"
    }
   ],
   "source": [
    "minn = min(m3.faces[0])\n",
    "minn + 1"
   ]
  },
  {
   "cell_type": "code",
   "execution_count": 31,
   "metadata": {},
   "outputs": [
    {
     "data": {
      "text/plain": [
       "array([ 0,  1,  2,  3,  4,  5,  6,  7,  8,  9, 10, 11, 12, 13, 14])"
      ]
     },
     "execution_count": 31,
     "metadata": {},
     "output_type": "execute_result"
    }
   ],
   "source": [
    "max(m3.faces[0])\n",
    "def get_all_vertices(mesh):\n",
    "    fcs = mesh.faces\n",
    "    loop = len(fcs)\n",
    "    mins = []\n",
    "    maxes = []\n",
    "    for i in range(0, loop):\n",
    "        f_vs = fcs[i]\n",
    "        f_min = min(f_vs)\n",
    "        f_max = max(f_vs)\n",
    "        mins.append(f_min)\n",
    "        maxes.append(f_max)\n",
    "    min_ = min(mins)\n",
    "    max_ = max(maxes) + 1\n",
    "    vs = np.arange(min_, max_, 1, int)\n",
    "    return vs\n",
    "\n",
    "allvs = get_all_vertices(m3)\n",
    "allvs[-1]\n",
    "len(allvs)\n",
    "allvs\n"
   ]
  },
  {
   "cell_type": "code",
   "execution_count": 15,
   "metadata": {},
   "outputs": [
    {
     "data": {
      "text/plain": [
       "array([ 0,  1,  2,  3,  4,  5,  6,  7,  8,  9, 10, 11, 12, 13])"
      ]
     },
     "execution_count": 15,
     "metadata": {},
     "output_type": "execute_result"
    }
   ],
   "source": [
    "np.arange(0, 14, 1, int)"
   ]
  },
  {
   "cell_type": "code",
   "execution_count": 4,
   "metadata": {},
   "outputs": [
    {
     "name": "stdout",
     "output_type": "stream",
     "text": [
      "{'00_NTE': 1,\n",
      " '0_BCType.Neumann': {6: [(7, 6)], 7: [(8, 7), (7, 6)], 8: [(8, 7)]},\n",
      " '1_BCType.Dirichlet': {0: [(0, 3), (10, 0)],\n",
      "                        3: [(0, 3), (3, 8)],\n",
      "                        8: [(3, 8)],\n",
      "                        10: [(10, 0), (14, 10)],\n",
      "                        14: [(14, 10)]},\n",
      " '2_BCType.Neumann': {12: [(12, 13)], 13: [(13, 14), (12, 13)], 14: [(13, 14)]},\n",
      " '3_BCType.Neumann': {4: [(5, 4), (4, 11)],\n",
      "                      5: [(5, 4), (6, 5)],\n",
      "                      6: [(6, 5)],\n",
      "                      11: [(11, 12), (4, 11)],\n",
      "                      12: [(11, 12)]}}\n"
     ]
    }
   ],
   "source": [
    "bc.get_NTE(bounds3)"
   ]
  },
  {
   "cell_type": "code",
   "execution_count": 5,
   "metadata": {},
   "outputs": [
    {
     "name": "stdout",
     "output_type": "stream",
     "text": [
      "{'00_ESS': 1,\n",
      " '0_BCType.Neumann': [(8, 7), (7, 6)],\n",
      " '1_BCType.Dirichlet': [(0, 3), (10, 0), (3, 8), (14, 10)],\n",
      " '2_BCType.Neumann': [(13, 14), (12, 13)],\n",
      " '3_BCType.Neumann': [(11, 12), (5, 4), (6, 5), (4, 11)]}\n"
     ]
    }
   ],
   "source": [
    "bc.get_ESS(bounds3)"
   ]
  },
  {
   "cell_type": "code",
   "execution_count": 8,
   "metadata": {},
   "outputs": [
    {
     "name": "stdout",
     "output_type": "stream",
     "text": [
      "{0: 0.0, 3: 0.0, 8: 0.0, 10: 0.0, 14: 0.0}\n",
      "{0, 3, 8, 10, 14}\n"
     ]
    }
   ],
   "source": [
    "ddofs = bc.get_dirdofs(bounds3)\n",
    "ddofsset = ddofs.dirichlet_dofs_set"
   ]
  },
  {
   "cell_type": "code",
   "execution_count": 9,
   "metadata": {},
   "outputs": [
    {
     "ename": "TypeError",
     "evalue": "'set' object is not subscriptable",
     "output_type": "error",
     "traceback": [
      "\u001b[0;31m---------------------------------------------------------------------------\u001b[0m",
      "\u001b[0;31mTypeError\u001b[0m                                 Traceback (most recent call last)",
      "Cell \u001b[0;32mIn [9], line 1\u001b[0m\n\u001b[0;32m----> 1\u001b[0m \u001b[43mddofsset\u001b[49m\u001b[43m[\u001b[49m\u001b[38;5;241;43m0\u001b[39;49m\u001b[43m]\u001b[49m\n",
      "\u001b[0;31mTypeError\u001b[0m: 'set' object is not subscriptable"
     ]
    }
   ],
   "source": [
    "ddofsset"
   ]
  },
  {
   "cell_type": "code",
   "execution_count": null,
   "metadata": {},
   "outputs": [],
   "source": []
  }
 ],
 "metadata": {
  "kernelspec": {
   "display_name": "Python 3",
   "language": "python",
   "name": "python3"
  },
  "language_info": {
   "codemirror_mode": {
    "name": "ipython",
    "version": 3
   },
   "file_extension": ".py",
   "mimetype": "text/x-python",
   "name": "python",
   "nbconvert_exporter": "python",
   "pygments_lexer": "ipython3",
   "version": "3.10.6"
  }
 },
 "nbformat": 4,
 "nbformat_minor": 2
}
