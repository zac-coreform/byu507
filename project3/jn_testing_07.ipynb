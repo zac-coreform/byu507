{
 "cells": [
  {
   "cell_type": "code",
   "execution_count": 7,
   "metadata": {},
   "outputs": [],
   "source": [
    "import p3Basis_Functions_2D as bf\n",
    "import p3Gauss_Quadrature_2D as gq\n",
    "import p3Boundary_Conditions as bc\n",
    "import p3Diffusion_2D as d2\n",
    "import p3Surface_Mesh as sm\n",
    "import numpy as np\n",
    "import inspect\n",
    "import pprint as pp\n",
    "# 22.6 seconds for this cell to run???\n",
    "# 1.3s this time"
   ]
  },
  {
   "cell_type": "code",
   "execution_count": 8,
   "metadata": {},
   "outputs": [],
   "source": [
    "prob3 = d2.run_problem(3)\n",
    "m3 = prob3.mesh\n",
    "bounds3 = prob3.boundaries\n",
    "ddofs = bc.get_dirdofs(bounds3).dd\n",
    "ien = d2.CreateIENArray(m3)\n",
    "id = d2.CreateIDArray(m3, ddofs)\n",
    "vs = d2.get_all_vertices(m3)"
   ]
  },
  {
   "cell_type": "code",
   "execution_count": 45,
   "metadata": {},
   "outputs": [
    {
     "data": {
      "text/plain": [
       "[0, 3, 8, 10, 14]"
      ]
     },
     "execution_count": 45,
     "metadata": {},
     "output_type": "execute_result"
    }
   ],
   "source": [
    "ddofs"
   ]
  },
  {
   "cell_type": "code",
   "execution_count": 11,
   "metadata": {},
   "outputs": [
    {
     "data": {
      "text/plain": [
       "array([[ 0,  4,  5,  7, 10,  1,  9,  9],\n",
       "       [ 1,  5,  6,  8,  9,  9, 13, 10],\n",
       "       [ 2,  2,  7,  3,  1, 11, 12, 14],\n",
       "       [ 3,  1,  2,  2,  0,  4, 11, 13]])"
      ]
     },
     "execution_count": 11,
     "metadata": {},
     "output_type": "execute_result"
    }
   ],
   "source": [
    "ien"
   ]
  },
  {
   "cell_type": "code",
   "execution_count": 12,
   "metadata": {},
   "outputs": [
    {
     "data": {
      "text/plain": [
       "array([[ 0,  1,  2,  3,  4,  5,  6,  7,  8,  9, 10, 11, 12, 13, 14],\n",
       "       [-1,  0,  1, -1,  2,  3,  4,  5, -1,  6, -1,  7,  8,  9, -1]])"
      ]
     },
     "execution_count": 12,
     "metadata": {},
     "output_type": "execute_result"
    }
   ],
   "source": [
    "id"
   ]
  },
  {
   "cell_type": "code",
   "execution_count": 54,
   "metadata": {},
   "outputs": [],
   "source": [
    "a = 0 # 0-3\n",
    "e = 0 # 0-14\n",
    "ien[a,e]\n",
    "\n",
    "def looper(mesh_, ien_, id_):\n",
    "    i_arr = [0,1,2,3]\n",
    "    v_arr = [ 0,  1,  2,  3,  4,  5,  6,  7,  8,  9, 10, 11, 12, 13, 14]\n",
    "    f_arr = mesh_.faces\n",
    "    n_elems = len(f_arr)\n",
    "    n_unknowns = int(max(id_[1])) + 1\n",
    "    print(f\"n_unknowns = {n_unknowns}\")\n",
    "    F = np.zeros((n_unknowns,1)) # len 10\n",
    "    print(F)\n",
    "    K = np.zeros((n_unknowns,n_unknowns))\n",
    "    ienlist = []\n",
    "    idlist = []\n",
    "    Flist = []\n",
    "    for e in range(0, len(f_arr)):\n",
    "        print(f\"ELEMENT #{e}\") # 0-7\n",
    "        fe = np.array((e+10, e+100))\n",
    "        for i in range(0, len(i_arr)):\n",
    "            P = ien_[i,e] # the vertex index\n",
    "            \n",
    "            A = id_[1][P]\n",
    "\n",
    "            # print(f\"P is {P}\")\n",
    "            # print(f\"A is {A}\")\n",
    "            if A == -1:\n",
    "                continue\n",
    "            print(f\"A is {A}\")\n",
    "            ienlist.append(P)\n",
    "            idlist.append(A)\n",
    "            # F[A] += fe[a]\n",
    "    print(ienlist)\n",
    "    print(f\"len ienlist = {len(ienlist)}\")\n",
    "    print(idlist)\n",
    "    print(f\"len idlist = {len(idlist)}\")\n",
    "    # return ienlist, idlist\n"
   ]
  },
  {
   "cell_type": "code",
   "execution_count": 55,
   "metadata": {},
   "outputs": [
    {
     "name": "stdout",
     "output_type": "stream",
     "text": [
      "n_unknowns = 10\n",
      "[[0.]\n",
      " [0.]\n",
      " [0.]\n",
      " [0.]\n",
      " [0.]\n",
      " [0.]\n",
      " [0.]\n",
      " [0.]\n",
      " [0.]\n",
      " [0.]]\n",
      "ELEMENT #0\n",
      "A is 0\n",
      "A is 1\n",
      "ELEMENT #1\n",
      "A is 2\n",
      "A is 3\n",
      "A is 1\n",
      "A is 0\n",
      "ELEMENT #2\n",
      "A is 3\n",
      "A is 4\n",
      "A is 5\n",
      "A is 1\n",
      "ELEMENT #3\n",
      "A is 5\n",
      "A is 1\n",
      "ELEMENT #4\n",
      "A is 6\n",
      "A is 0\n",
      "ELEMENT #5\n",
      "A is 0\n",
      "A is 6\n",
      "A is 7\n",
      "A is 2\n",
      "ELEMENT #6\n",
      "A is 6\n",
      "A is 9\n",
      "A is 8\n",
      "A is 7\n",
      "ELEMENT #7\n",
      "A is 6\n",
      "A is 9\n",
      "[1, 2, 4, 5, 2, 1, 5, 6, 7, 2, 7, 2, 9, 1, 1, 9, 11, 4, 9, 13, 12, 11, 9, 13]\n",
      "len ienlist = 24\n",
      "[0, 1, 2, 3, 1, 0, 3, 4, 5, 1, 5, 1, 6, 0, 0, 6, 7, 2, 6, 9, 8, 7, 6, 9]\n",
      "len idlist = 24\n"
     ]
    }
   ],
   "source": [
    "looper(m3, ien, id)"
   ]
  },
  {
   "cell_type": "code",
   "execution_count": null,
   "metadata": {},
   "outputs": [],
   "source": []
  }
 ],
 "metadata": {
  "kernelspec": {
   "display_name": "Python 3",
   "language": "python",
   "name": "python3"
  },
  "language_info": {
   "codemirror_mode": {
    "name": "ipython",
    "version": 3
   },
   "file_extension": ".py",
   "mimetype": "text/x-python",
   "name": "python",
   "nbconvert_exporter": "python",
   "pygments_lexer": "ipython3",
   "version": "3.10.6"
  }
 },
 "nbformat": 4,
 "nbformat_minor": 2
}
