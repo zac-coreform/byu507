{
 "cells": [
  {
   "cell_type": "code",
   "execution_count": 25,
   "metadata": {},
   "outputs": [],
   "source": [
    "import p3Basis_Functions_2D as bf\n",
    "import p3Gauss_Quadrature_2D as gq\n",
    "import p3Boundary_Conditions as bc\n",
    "import p3Diffusion_2D as d2\n",
    "import p3Surface_Mesh as sm\n",
    "import numpy as np\n",
    "import inspect"
   ]
  },
  {
   "cell_type": "code",
   "execution_count": 26,
   "metadata": {},
   "outputs": [],
   "source": [
    "prob3 = d2.run_problem(3)\n",
    "m3 = prob3.mesh\n",
    "bounds3 = prob3.boundaries\n",
    "vs = d2.get_all_vertices(m3)"
   ]
  },
  {
   "cell_type": "markdown",
   "metadata": {},
   "source": [
    "![title](_mesh-image-ks.png)"
   ]
  },
  {
   "cell_type": "code",
   "execution_count": 43,
   "metadata": {},
   "outputs": [
    {
     "data": {
      "text/plain": [
       "array([[0.        , 4.99524267, 0.        ],\n",
       "       [0.        , 0.        , 0.        ],\n",
       "       [5.00513363, 0.        , 0.        ],\n",
       "       [4.9994216 , 5.00014795, 0.        ]])"
      ]
     },
     "execution_count": 43,
     "metadata": {},
     "output_type": "execute_result"
    }
   ],
   "source": [
    "# global x,y,z coordinate points for a given face\n",
    "m3.get_face_points(3)"
   ]
  },
  {
   "cell_type": "code",
   "execution_count": 27,
   "metadata": {},
   "outputs": [
    {
     "data": {
      "text/plain": [
       "[0, 3, 4, 5, 6, 7, 8, 10, 11, 12, 13, 14]"
      ]
     },
     "execution_count": 27,
     "metadata": {},
     "output_type": "execute_result"
    }
   ],
   "source": [
    "m3.boundary_vertices()\n",
    "\n"
   ]
  },
  {
   "cell_type": "code",
   "execution_count": 42,
   "metadata": {},
   "outputs": [
    {
     "name": "stdout",
     "output_type": "stream",
     "text": [
      "0\n",
      "3\n",
      "4\n",
      "5\n",
      "6\n",
      "7\n",
      "8\n",
      "10\n",
      "11\n",
      "12\n",
      "13\n",
      "14\n"
     ]
    }
   ],
   "source": [
    "for v in vs:\n",
    "    if m3.vertex_is_boundary(v):\n",
    "        print(v)\n",
    "    else:\n",
    "        continue\n",
    "\n",
    "\n",
    "# m3.vertex_is_boundary(vs[0])"
   ]
  },
  {
   "cell_type": "code",
   "execution_count": 28,
   "metadata": {},
   "outputs": [
    {
     "data": {
      "text/plain": [
       "[(11, 12),\n",
       " (5, 4),\n",
       " (8, 7),\n",
       " (0, 3),\n",
       " (6, 5),\n",
       " (4, 11),\n",
       " (10, 0),\n",
       " (13, 14),\n",
       " (7, 6),\n",
       " (3, 8),\n",
       " (14, 10),\n",
       " (12, 13)]"
      ]
     },
     "execution_count": 28,
     "metadata": {},
     "output_type": "execute_result"
    }
   ],
   "source": [
    "m3.boundary_edges()"
   ]
  },
  {
   "cell_type": "code",
   "execution_count": 29,
   "metadata": {},
   "outputs": [
    {
     "data": {
      "text/plain": [
       "array([[ 0,  1,  2,  3],\n",
       "       [ 4,  5,  2,  1],\n",
       "       [ 5,  6,  7,  2],\n",
       "       [ 7,  8,  3,  2],\n",
       "       [10,  9,  1,  0],\n",
       "       [ 1,  9, 11,  4],\n",
       "       [ 9, 13, 12, 11],\n",
       "       [ 9, 10, 14, 13]])"
      ]
     },
     "execution_count": 29,
     "metadata": {},
     "output_type": "execute_result"
    }
   ],
   "source": [
    "m3.faces"
   ]
  },
  {
   "cell_type": "code",
   "execution_count": 30,
   "metadata": {},
   "outputs": [
    {
     "data": {
      "text/plain": [
       "1"
      ]
     },
     "execution_count": 30,
     "metadata": {},
     "output_type": "execute_result"
    }
   ],
   "source": [
    "minn = min(m3.faces[0])\n",
    "minn + 1"
   ]
  },
  {
   "cell_type": "code",
   "execution_count": 31,
   "metadata": {},
   "outputs": [
    {
     "data": {
      "text/plain": [
       "array([ 0,  1,  2,  3,  4,  5,  6,  7,  8,  9, 10, 11, 12, 13, 14])"
      ]
     },
     "execution_count": 31,
     "metadata": {},
     "output_type": "execute_result"
    }
   ],
   "source": [
    "max(m3.faces[0])\n",
    "def get_all_vertices(mesh):\n",
    "    fcs = mesh.faces\n",
    "    loop = len(fcs)\n",
    "    mins = []\n",
    "    maxes = []\n",
    "    for i in range(0, loop):\n",
    "        f_vs = fcs[i]\n",
    "        f_min = min(f_vs)\n",
    "        f_max = max(f_vs)\n",
    "        mins.append(f_min)\n",
    "        maxes.append(f_max)\n",
    "    min_ = min(mins)\n",
    "    max_ = max(maxes) + 1\n",
    "    vs = np.arange(min_, max_, 1, int)\n",
    "    return vs\n",
    "\n",
    "allvs = get_all_vertices(m3)\n",
    "allvs[-1]\n",
    "len(allvs)\n",
    "allvs\n"
   ]
  },
  {
   "cell_type": "code",
   "execution_count": 32,
   "metadata": {},
   "outputs": [
    {
     "data": {
      "text/plain": [
       "array([ 0,  1,  2,  3,  4,  5,  6,  7,  8,  9, 10, 11, 12, 13])"
      ]
     },
     "execution_count": 32,
     "metadata": {},
     "output_type": "execute_result"
    }
   ],
   "source": [
    "np.arange(0, 14, 1, int)"
   ]
  },
  {
   "cell_type": "code",
   "execution_count": 33,
   "metadata": {},
   "outputs": [
    {
     "name": "stdout",
     "output_type": "stream",
     "text": [
      "{'00_NTE': 1,\n",
      " '0_BCType.Neumann': {6: [(7, 6)], 7: [(8, 7), (7, 6)], 8: [(8, 7)]},\n",
      " '1_BCType.Dirichlet': {0: [(0, 3), (10, 0)],\n",
      "                        3: [(0, 3), (3, 8)],\n",
      "                        8: [(3, 8)],\n",
      "                        10: [(10, 0), (14, 10)],\n",
      "                        14: [(14, 10)]},\n",
      " '2_BCType.Neumann': {12: [(12, 13)], 13: [(13, 14), (12, 13)], 14: [(13, 14)]},\n",
      " '3_BCType.Neumann': {4: [(5, 4), (4, 11)],\n",
      "                      5: [(5, 4), (6, 5)],\n",
      "                      6: [(6, 5)],\n",
      "                      11: [(11, 12), (4, 11)],\n",
      "                      12: [(11, 12)]}}\n"
     ]
    }
   ],
   "source": [
    "bc.get_NTE(bounds3)"
   ]
  },
  {
   "cell_type": "code",
   "execution_count": 34,
   "metadata": {},
   "outputs": [
    {
     "name": "stdout",
     "output_type": "stream",
     "text": [
      "{'00_ESS': 1,\n",
      " '0_BCType.Neumann': [(8, 7), (7, 6)],\n",
      " '1_BCType.Dirichlet': [(0, 3), (10, 0), (3, 8), (14, 10)],\n",
      " '2_BCType.Neumann': [(13, 14), (12, 13)],\n",
      " '3_BCType.Neumann': [(11, 12), (5, 4), (6, 5), (4, 11)]}\n"
     ]
    }
   ],
   "source": [
    "bc.get_ESS(bounds3)"
   ]
  },
  {
   "cell_type": "code",
   "execution_count": 35,
   "metadata": {},
   "outputs": [],
   "source": [
    "ddofs = bc.get_dirdofs(bounds3)\n",
    "ddofsset = ddofs.dirichlet_dofs_set"
   ]
  },
  {
   "cell_type": "code",
   "execution_count": 36,
   "metadata": {},
   "outputs": [
    {
     "data": {
      "text/plain": [
       "{0, 3, 8, 10, 14}"
      ]
     },
     "execution_count": 36,
     "metadata": {},
     "output_type": "execute_result"
    }
   ],
   "source": [
    "ddofsset"
   ]
  },
  {
   "cell_type": "code",
   "execution_count": null,
   "metadata": {},
   "outputs": [],
   "source": []
  }
 ],
 "metadata": {
  "kernelspec": {
   "display_name": "Python 3",
   "language": "python",
   "name": "python3"
  },
  "language_info": {
   "codemirror_mode": {
    "name": "ipython",
    "version": 3
   },
   "file_extension": ".py",
   "mimetype": "text/x-python",
   "name": "python",
   "nbconvert_exporter": "python",
   "pygments_lexer": "ipython3",
   "version": "3.10.6"
  }
 },
 "nbformat": 4,
 "nbformat_minor": 2
}
