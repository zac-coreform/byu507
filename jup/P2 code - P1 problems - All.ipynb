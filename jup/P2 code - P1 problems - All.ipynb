{
 "cells": [
  {
   "cell_type": "code",
   "execution_count": 1,
   "id": "4035b786",
   "metadata": {},
   "outputs": [],
   "source": [
    "import numpy as np\n",
    "import p2BoundaryConditions as bc\n",
    "import p2FEMProblem as fp"
   ]
  },
  {
   "cell_type": "code",
   "execution_count": 2,
   "id": "85ac0303",
   "metadata": {},
   "outputs": [],
   "source": [
    "bcl0 = bc.BoundaryCondition(\"left\", \"Neu\", 0, 1, 0)\n",
    "bcr0 = bc.BoundaryCondition(\"right\", \"Dir\", 1, 0, 0)"
   ]
  },
  {
   "cell_type": "code",
   "execution_count": 8,
   "id": "8d77d187",
   "metadata": {},
   "outputs": [
    {
     "data": {
      "text/plain": [
       "[array([[ 1., -1.],\n",
       "        [-1.,  1.]])]"
      ]
     },
     "execution_count": 8,
     "metadata": {},
     "output_type": "execute_result"
    }
   ],
   "source": [
    "f0 = lambda x: 1\n",
    "p0 = fp.Problem(bcl0, bcr0, f0, 1)\n",
    "s = p0.SolveOnly()\n",
    "s.ke_list\n"
   ]
  },
  {
   "cell_type": "code",
   "execution_count": 4,
   "id": "18d25d94",
   "metadata": {},
   "outputs": [],
   "source": [
    "bcl = bc.BoundaryCondition(\"left\", \"Neu\", 0, 1, 0)\n",
    "bcr = bc.BoundaryCondition(\"right\", \"Dir\", 1, 0, 1075)\n",
    "\n",
    "f = lambda x: 500/44\n",
    "\n",
    "p1 = fp.Problem(bcl, bcr, f, 100)\n",
    "s = p1.SolveOnly()\n",
    "# p1.PlotSolution()\n"
   ]
  },
  {
   "cell_type": "code",
   "execution_count": 5,
   "id": "c41bd216",
   "metadata": {},
   "outputs": [
    {
     "data": {
      "text/plain": [
       "<p2FEMProblem.SolutionPackage at 0x115abbcd0>"
      ]
     },
     "execution_count": 5,
     "metadata": {},
     "output_type": "execute_result"
    }
   ],
   "source": [
    "E = 3.0e4\n",
    "r = 1e0/16e0\n",
    "A = np.pi * r**2\n",
    "EA = E*A\n",
    "P = -1e-1\n",
    "h = P / EA\n",
    "f = lambda x: (1e0 / EA) * -(1 - x)\n",
    "\n",
    "bcl2 = bc.BoundaryCondition(\"left\", \"Neu\", 0, 1, h)\n",
    "bcr2 = bc.BoundaryCondition(\"right\", \"Dir\", 1, 0, 0)\n",
    "\n",
    "p2 = fp.Problem(bcl, bcr, f, 100)\n",
    "p2.SolveOnly()\n",
    "# p2.PlotSolution()"
   ]
  },
  {
   "cell_type": "code",
   "execution_count": 6,
   "id": "3f739ae0",
   "metadata": {},
   "outputs": [
    {
     "data": {
      "text/plain": [
       "<p2FEMProblem.SolutionPackage at 0x115abb730>"
      ]
     },
     "execution_count": 6,
     "metadata": {},
     "output_type": "execute_result"
    }
   ],
   "source": [
    "rho = 1e-10\n",
    "epsilon_0 = 8.854e-12\n",
    "coeff = rho / epsilon_0\n",
    "f = lambda x: coeff\n",
    "g = 0\n",
    "h = 1e0\n",
    "\n",
    "bcl4 = bc.BoundaryCondition(\"left\", \"Neu\", 0, 1, h)\n",
    "bcr4 = bc.BoundaryCondition(\"right\", \"Dir\", 1, 0, g)\n",
    "\n",
    "p4 = fp.Problem(bcl2, bcr2, f, 100)\n",
    "p4.SolveOnly()\n",
    "# p4.PlotSolution()"
   ]
  },
  {
   "cell_type": "code",
   "execution_count": null,
   "id": "67ba93dc",
   "metadata": {},
   "outputs": [],
   "source": []
  }
 ],
 "metadata": {
  "@webio": {
   "lastCommId": null,
   "lastKernelId": null
  },
  "kernelspec": {
   "display_name": "Python 3 (ipykernel)",
   "language": "python",
   "name": "python3"
  },
  "language_info": {
   "codemirror_mode": {
    "name": "ipython",
    "version": 3
   },
   "file_extension": ".py",
   "mimetype": "text/x-python",
   "name": "python",
   "nbconvert_exporter": "python",
   "pygments_lexer": "ipython3",
   "version": "3.10.6"
  }
 },
 "nbformat": 4,
 "nbformat_minor": 5
}
