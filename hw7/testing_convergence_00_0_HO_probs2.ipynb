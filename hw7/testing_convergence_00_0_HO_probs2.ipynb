{
 "cells": [
  {
   "cell_type": "code",
   "execution_count": 1,
   "metadata": {},
   "outputs": [],
   "source": [
    "import hw7Gauss_Quadrature as gq\n",
    "import unittest\n",
    "import hw7Basis_Functions as bf\n",
    "import inspect\n",
    "import hw7Poisson_1D as p1\n",
    "import hw7Boundary_Conditions as bc\n",
    "import hw7Problems_Revised as pb\n",
    "import math\n",
    "import functools as ft\n",
    "import numpy as np\n",
    "import matplotlib.pyplot as plt\n",
    "import hw7Error_Values as ev\n",
    "from matplotlib.ticker import ScalarFormatter\n",
    "import matplotlib.ticker as ticker\n"
   ]
  },
  {
   "cell_type": "markdown",
   "metadata": {},
   "source": [
    "## Problem data"
   ]
  },
  {
   "cell_type": "code",
   "execution_count": 2,
   "metadata": {},
   "outputs": [],
   "source": [
    "f = lambda x: 20 * math.sin(15 * x)\n",
    "bcl = bc.BoundaryCondition(\"left\", \"Neu\", 0, 1, -1)\n",
    "bcr = bc.BoundaryCondition(\"right\", \"Dir\", 1, 0, 2)\n",
    "u_exact = lambda x: 2 + (1 - x) - (4/45)*math.sin(15) + (4/3) + (4/45)*math.sin(15*x) - (4*x/3)\n",
    "u_exact_derv = lambda x: (4/3)*math.cos(15 * x) - (7/3)\n",
    "xvals = p1.CreateXVals(0,1,4)\n"
   ]
  },
  {
   "cell_type": "code",
   "execution_count": 10,
   "metadata": {},
   "outputs": [
    {
     "name": "stdout",
     "output_type": "stream",
     "text": [
      "ien\n",
      "[[ 0  3  6  9]\n",
      " [ 1  4  7 10]\n",
      " [ 2  5  8 11]\n",
      " [ 3  6  9 12]]\n",
      "id\n",
      "[ 0  1  2  3  4  5  6  7  8  9 10 11 -1]\n"
     ]
    }
   ],
   "source": [
    "fp1 = p1.FEM_Poisson(bcl,bcr,f,xvals,3)\n",
    "ien = fp1[0]\n",
    "id = fp1[1]\n",
    "# np.linalg.det(K)\n",
    "print(f\"ien\\n{ien}\\nid\\n{id}\")"
   ]
  },
  {
   "cell_type": "code",
   "execution_count": 6,
   "metadata": {},
   "outputs": [
    {
     "data": {
      "text/plain": [
       "[array([[ 7., -3., -3., -1.],\n",
       "        [-3.,  3.,  3., -3.],\n",
       "        [-3.,  3.,  3., -3.],\n",
       "        [-1., -3., -3.,  7.]]),\n",
       " array([[ 7., -3., -3., -1.],\n",
       "        [-3.,  3.,  3., -3.],\n",
       "        [-3.,  3.,  3., -3.],\n",
       "        [-1., -3., -3.,  7.]]),\n",
       " array([[ 7., -3., -3., -1.],\n",
       "        [-3.,  3.,  3., -3.],\n",
       "        [-3.,  3.,  3., -3.],\n",
       "        [-1., -3., -3.,  7.]]),\n",
       " array([[ 7., -3., -3., -1.],\n",
       "        [-3.,  3.,  3., -3.],\n",
       "        [-3.,  3.,  3., -3.],\n",
       "        [-1., -3., -3.,  7.]])]"
      ]
     },
     "execution_count": 6,
     "metadata": {},
     "output_type": "execute_result"
    }
   ],
   "source": [
    "kelist = fp1[4]\n",
    "kelist"
   ]
  },
  {
   "cell_type": "code",
   "execution_count": 8,
   "metadata": {},
   "outputs": [
    {
     "data": {
      "text/plain": [
       "array([[ 7., -3., -3., -1.,  0.,  0.,  0.,  0.,  0.,  0.,  0.,  0.],\n",
       "       [-3.,  3.,  3., -3.,  0.,  0.,  0.,  0.,  0.,  0.,  0.,  0.],\n",
       "       [-3.,  3.,  3., -3.,  0.,  0.,  0.,  0.,  0.,  0.,  0.,  0.],\n",
       "       [-1., -3., -3., 14., -3., -3., -1.,  0.,  0.,  0.,  0.,  0.],\n",
       "       [ 0.,  0.,  0., -3.,  3.,  3., -3.,  0.,  0.,  0.,  0.,  0.],\n",
       "       [ 0.,  0.,  0., -3.,  3.,  3., -3.,  0.,  0.,  0.,  0.,  0.],\n",
       "       [ 0.,  0.,  0., -1., -3., -3., 14., -3., -3., -1.,  0.,  0.],\n",
       "       [ 0.,  0.,  0.,  0.,  0.,  0., -3.,  3.,  3., -3.,  0.,  0.],\n",
       "       [ 0.,  0.,  0.,  0.,  0.,  0., -3.,  3.,  3., -3.,  0.,  0.],\n",
       "       [ 0.,  0.,  0.,  0.,  0.,  0., -1., -3., -3., 14., -3., -3.],\n",
       "       [ 0.,  0.,  0.,  0.,  0.,  0.,  0.,  0.,  0., -3.,  3.,  3.],\n",
       "       [ 0.,  0.,  0.,  0.,  0.,  0.,  0.,  0.,  0., -3.,  3.,  3.]])"
      ]
     },
     "execution_count": 8,
     "metadata": {},
     "output_type": "execute_result"
    }
   ],
   "source": [
    "K = fp1[2]\n",
    "K"
   ]
  },
  {
   "cell_type": "code",
   "execution_count": 11,
   "metadata": {},
   "outputs": [],
   "source": [
    "arr = np.array([[ 7., -3., -3., -1.,  0.,  0.,  0.,  0.,  0.,  0.,  0.,  0.],\n",
    "       [-3.,  3.,  3., -3.,  0.,  0.,  0.,  0.,  0.,  0.,  0.,  0.],\n",
    "       [-3.,  3.,  3., -3.,  0.,  0.,  0.,  0.,  0.,  0.,  0.,  0.],\n",
    "       [-1., -3., -3., 14., -3., -3., -1.,  0.,  0.,  0.,  0.,  0.],\n",
    "       [ 0.,  0.,  0., -3.,  3.,  3., -3.,  0.,  0.,  0.,  0.,  0.],\n",
    "       [ 0.,  0.,  0., -3.,  3.,  3., -3.,  0.,  0.,  0.,  0.,  0.],\n",
    "       [ 0.,  0.,  0., -1., -3., -3., 14., -3., -3., -1.,  0.,  0.],\n",
    "       [ 0.,  0.,  0.,  0.,  0.,  0., -3.,  3.,  3., -3.,  0.,  0.],\n",
    "       [ 0.,  0.,  0.,  0.,  0.,  0., -3.,  3.,  3., -3.,  0.,  0.],\n",
    "       [ 0.,  0.,  0.,  0.,  0.,  0., -1., -3., -3., 14., -3., -3.],\n",
    "       [ 0.,  0.,  0.,  0.,  0.,  0.,  0.,  0.,  0., -3.,  3.,  3.],\n",
    "       [ 0.,  0.,  0.,  0.,  0.,  0.,  0.,  0.,  0., -3.,  3.,  3.]])"
   ]
  },
  {
   "cell_type": "code",
   "execution_count": 13,
   "metadata": {},
   "outputs": [
    {
     "data": {
      "text/plain": [
       "0.0"
      ]
     },
     "execution_count": 13,
     "metadata": {},
     "output_type": "execute_result"
    }
   ],
   "source": [
    "np.linalg.det(arr)"
   ]
  },
  {
   "cell_type": "code",
   "execution_count": null,
   "metadata": {},
   "outputs": [],
   "source": []
  }
 ],
 "metadata": {
  "kernelspec": {
   "display_name": "Python 3",
   "language": "python",
   "name": "python3"
  },
  "language_info": {
   "codemirror_mode": {
    "name": "ipython",
    "version": 3
   },
   "file_extension": ".py",
   "mimetype": "text/x-python",
   "name": "python",
   "nbconvert_exporter": "python",
   "pygments_lexer": "ipython3",
   "version": "3.10.6"
  }
 },
 "nbformat": 4,
 "nbformat_minor": 2
}
