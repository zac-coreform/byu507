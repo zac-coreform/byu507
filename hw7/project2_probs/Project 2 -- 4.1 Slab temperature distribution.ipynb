{
 "cells": [
  {
   "cell_type": "code",
   "execution_count": 1,
   "id": "4035b786",
   "metadata": {},
   "outputs": [],
   "source": [
    "import numpy as np\n",
    "import p2BoundaryConditions as bc\n",
    "import p2FEMProblem as fp"
   ]
  },
  {
   "cell_type": "markdown",
   "id": "3307c75c",
   "metadata": {},
   "source": [
    "## 4.1: Temperature distribution of a slab\n",
    "- Description: \n",
    "    - Concrete slab 0.5m thick \n",
    "    - Warm air temperatures on the exterior (at x = 0)\n",
    "    - Cooler air temperatures on the interior (at x = L)\n",
    "    - What is the temperature of the concrete on both the interior and the exterior wall surfaces?\n",
    "- DE: \n",
    "    - $\\kappa u_{xx} + f = 0$ on $\\Omega$\n",
    "- BCs\n",
    "    - LHS=exterior ($x=0$): $\\quad \\omega u(0) - \\kappa u_x(0) = \\omega u_\\infty$\n",
    "    - RHS=interior ($x=L$): $\\quad \\hat{\\omega} u(L) - \\kappa u_x(L) = \\hat{\\omega}\\hat{u}_\\infty$\n",
    "\n",
    "<!-- end with x=0 is insulated: $u_x(0) = 0$ -->\n",
    "\n",
    "- Constants\n",
    "    - $u_\\infty = 303.15 K$ (the exterior (x=0) uniform fluid temperature ($\\approx$ 80 F))\n",
    "    - $\\hat{u}_\\infty = 293.15 K$ (the interior (x=L) uniform fluid temperature ($\\approx$ 60 F))\n",
    "    - $f = 0 W\\cdot m^{3}$ (the rate of heat generation per unit volume)\n",
    "    - $\\omega = \\hat{\\omega} = 2.2 $ (the surface heat transfer coefficient)\n",
    "    - $\\kappa = 2.711 W\\cdot m^{-1}\\cdot K^{-1}$\n",
    "    \n",
    "- Unknowns/QOIs: \n",
    "    - $u(x)$ = temperature as a function of $x$\n",
    "    - $u(0)$ = QOI\n",
    "    - $u(L)$ = QOI\n",
    "\n",
    "\n",
    "<!-- 1. Rewriting the DE to solve for $f$ in terms of $\\kappa$ and temp placeholder $q$: \n",
    "\\begin{align}\n",
    "\\kappa u_{xx} + q \\quad &= \\quad 0  \\\\\n",
    "\\kappa u_{xx} \\quad &= \\quad  -q  \\\\ \n",
    "u_{xx} \\quad &= \\quad  -\\frac{q}{\\kappa}  \\\\\n",
    "u_{xx} + \\frac{q}{\\kappa} \\quad &= \\quad  0  \\\\\n",
    "\\end{align} -->\n",
    "\n",
    "<!-- 3. Solving for BCs:\n",
    "\\begin{align}\n",
    "\\omega u(0) - \\kappa u_x(0)\\quad &= \\quad\\omega u_\\infty  \\\\\n",
    "XX \\quad &= \\quad XX \\\\\n",
    "XX \\quad &= \\quad XX \\\\\n",
    "XX \\quad &= \\quad XX \\\\\n",
    "XX \\quad &= \\quad XX \\\\\n",
    "\\end{align} -->"
   ]
  },
  {
   "cell_type": "code",
   "execution_count": 6,
   "id": "0a6d647a",
   "metadata": {},
   "outputs": [],
   "source": [
    "# BC data\n",
    "kappa = 2.711\n",
    "omega = 2.2\n",
    "omegahat = omega\n",
    "uinf = 303.15\n",
    "uinfhat = 293.15\n",
    "\n",
    "bcl = bc.BoundaryCondition(\"left\", \"Rob\", omega, kappa, omega * uinf)\n",
    "bcr = bc.BoundaryCondition(\"right\", \"Rob\", omegahat, kappa, omegahat * uinfhat)\n",
    "\n",
    "f = lambda x: 0\n",
    "\n",
    "p1 = fp.Problem(bcl, bcr, f, 100)"
   ]
  },
  {
   "cell_type": "code",
   "execution_count": 7,
   "id": "46fd651d",
   "metadata": {},
   "outputs": [],
   "source": [
    "s = p1.SolveOnly()"
   ]
  },
  {
   "cell_type": "code",
   "execution_count": 8,
   "id": "9c617501",
   "metadata": {},
   "outputs": [],
   "source": [
    "# print(s.D_plot)"
   ]
  },
  {
   "cell_type": "code",
   "execution_count": 9,
   "id": "87204d7c",
   "metadata": {},
   "outputs": [
    {
     "data": {
      "image/png": "[encoded data removed]",
      "text/plain": [
       "<Figure size 640x480 with 1 Axes>"
      ]
     },
     "metadata": {},
     "output_type": "display_data"
    }
   ],
   "source": [
    "p1.PlotSolution()"
   ]
  },
  {
   "cell_type": "code",
   "execution_count": null,
   "id": "c60d66b8",
   "metadata": {},
   "outputs": [],
   "source": []
  }
 ],
 "metadata": {
  "@webio": {
   "lastCommId": null,
   "lastKernelId": null
  },
  "kernelspec": {
   "display_name": "Python 3 (ipykernel)",
   "language": "python",
   "name": "python3"
  },
  "language_info": {
   "codemirror_mode": {
    "name": "ipython",
    "version": 3
   },
   "file_extension": ".py",
   "mimetype": "text/x-python",
   "name": "python",
   "nbconvert_exporter": "python",
   "pygments_lexer": "ipython3",
   "version": "3.10.6"
  }
 },
 "nbformat": 4,
 "nbformat_minor": 5
}
