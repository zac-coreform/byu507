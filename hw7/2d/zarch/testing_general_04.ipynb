{
 "cells": [
  {
   "cell_type": "code",
   "execution_count": 4,
   "metadata": {},
   "outputs": [],
   "source": [
    "import hw6Basis_Functions2d as bf2\n",
    "import Gauss_Quadrature2d as gq2\n",
    "import Gauss_Quadrature1d as gq1\n",
    "import Poisson_1D as p1\n"
   ]
  },
  {
   "cell_type": "code",
   "execution_count": 5,
   "metadata": {},
   "outputs": [
    {
     "name": "stdout",
     "output_type": "stream",
     "text": [
      "0.15625000000000003\n",
      "0.15625000000000003\n"
     ]
    }
   ],
   "source": [
    "# COMPARE SHIFTED QUADRATURE TO NON-SHIFTED\n",
    "# integrating function 1-x over element idx 1 given four elements over 0,1 (so bounds of 0.25, 0.5) \n",
    "fn = lambda x: 1 - x\n",
    "xvals = p1.CreateXVals(0,1,4)\n",
    "elem_xvals = [xvals[1], xvals[2]]\n",
    "\n",
    "# elem_xvals\n",
    "\n",
    "# NON-SHIFTED\n",
    "q3 = gq1.Gauss_Quadrature1d(3)\n",
    "q3.integrate_by_quadrature(fn, elem_xvals[0], elem_xvals[1])\n",
    "print(q3.integral) # 0.15625000000000003\n",
    "\n",
    "# SHIFTED TO 0,1\n",
    "q301 = gq1.Gauss_Quadrature1d(3,0,1)\n",
    "q301.integrate_by_quadrature(fn, elem_xvals[0], elem_xvals[1])\n",
    "print(q301.integral) # 0.15625000000000003\n",
    "\n",
    "# SAME, AND CONFIRMED WITH NON-QUADRATURE INTEGRATION ON WOLFRAM"
   ]
  },
  {
   "cell_type": "code",
   "execution_count": null,
   "metadata": {},
   "outputs": [],
   "source": []
  },
  {
   "cell_type": "code",
   "execution_count": null,
   "metadata": {},
   "outputs": [],
   "source": []
  },
  {
   "cell_type": "code",
   "execution_count": null,
   "metadata": {},
   "outputs": [],
   "source": []
  },
  {
   "cell_type": "code",
   "execution_count": 6,
   "metadata": {},
   "outputs": [],
   "source": [
    "# bf2.PlotBasisFunction(0, False, 0)\n"
   ]
  }
 ],
 "metadata": {
  "kernelspec": {
   "display_name": "Python 3",
   "language": "python",
   "name": "python3"
  },
  "language_info": {
   "codemirror_mode": {
    "name": "ipython",
    "version": 3
   },
   "file_extension": ".py",
   "mimetype": "text/x-python",
   "name": "python",
   "nbconvert_exporter": "python",
   "pygments_lexer": "ipython3",
   "version": "3.10.6"
  }
 },
 "nbformat": 4,
 "nbformat_minor": 2
}
