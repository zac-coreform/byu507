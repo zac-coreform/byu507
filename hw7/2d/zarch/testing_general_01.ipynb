{
 "cells": [
  {
   "cell_type": "code",
   "execution_count": 53,
   "metadata": {},
   "outputs": [],
   "source": [
    "import hw6Basis_Functions2d as bf2\n",
    "import Gauss_Quadrature2d as gq2\n"
   ]
  },
  {
   "cell_type": "code",
   "execution_count": 54,
   "metadata": {},
   "outputs": [],
   "source": [
    "# bf2.PlotBasisFunction(0, True, 0)\n",
    "# bf2.PlotBasisFunction(0, True, 1)\n",
    "# bf2.PlotBasisFunction(1, True, 0)\n",
    "# bf2.PlotBasisFunction(1, True, 1)\n",
    "# bf2.PlotBasisFunction(2, True, 0)\n",
    "# bf2.PlotBasisFunction(2, True, 1)\n",
    "# bf2.PlotBasisFunction(3, True, 0)\n",
    "# bf2.PlotBasisFunction(3, True, 1)"
   ]
  },
  {
   "cell_type": "code",
   "execution_count": 55,
   "metadata": {},
   "outputs": [],
   "source": []
  },
  {
   "cell_type": "code",
   "execution_count": 60,
   "metadata": {},
   "outputs": [
    {
     "data": {
      "text/plain": [
       "[[-0.7745966692414834, -0.7745966692414834],\n",
       " [0.0, 0.0],\n",
       " [0.7745966692414834, 0.7745966692414834]]"
      ]
     },
     "execution_count": 60,
     "metadata": {},
     "output_type": "execute_result"
    }
   ],
   "source": [
    "q3 = gq2.Gauss_Quadrature2d(3,-1,1,-1,1)\n",
    "q3xi = q3.quad_pts_xi\n",
    "# array([-0.77459667,  0.        ,  0.77459667])\n",
    "q3eta = q3.quad_pts_eta\n",
    "# array([-0.77459667,  0.        ,  0.77459667])\n",
    "\n",
    "q3 = zip(q3xi, q3eta)\n",
    "\n",
    "q3_list = list(map(list, zip(q3xi, q3eta)))\n",
    "# q3_list\n",
    "# [[-0.7745966692414834, -0.7745966692414834],\n",
    "#  [0.0, 0.0],\n",
    "#  [0.7745966692414834, 0.7745966692414834]]\n"
   ]
  },
  {
   "cell_type": "code",
   "execution_count": 57,
   "metadata": {},
   "outputs": [],
   "source": [
    "q3 = gq2.Gauss_Quadrature2d(3,-1,1,-1,1)\n",
    "\n",
    "q3xi_wts = q3.quad_wts_xi\n",
    "q3eta_wts = q3.quad_wts_eta\n"
   ]
  },
  {
   "cell_type": "code",
   "execution_count": null,
   "metadata": {},
   "outputs": [],
   "source": [
    "# bf2.PlotBasisFunction(0, False, 0)\n"
   ]
  }
 ],
 "metadata": {
  "kernelspec": {
   "display_name": "Python 3",
   "language": "python",
   "name": "python3"
  },
  "language_info": {
   "codemirror_mode": {
    "name": "ipython",
    "version": 3
   },
   "file_extension": ".py",
   "mimetype": "text/x-python",
   "name": "python",
   "nbconvert_exporter": "python",
   "pygments_lexer": "ipython3",
   "version": "3.10.6"
  }
 },
 "nbformat": 4,
 "nbformat_minor": 2
}
