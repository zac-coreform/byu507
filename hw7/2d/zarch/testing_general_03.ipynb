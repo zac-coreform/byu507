{
 "cells": [
  {
   "cell_type": "code",
   "execution_count": 1,
   "metadata": {},
   "outputs": [],
   "source": [
    "import hw6Basis_Functions2d as bf2\n",
    "import Gauss_Quadrature2d as gq2\n",
    "import Gauss_Quadrature1d as gq1\n"
   ]
  },
  {
   "cell_type": "code",
   "execution_count": 2,
   "metadata": {},
   "outputs": [],
   "source": [
    "# bf2.PlotBasisFunction(0, True, 0)\n",
    "# bf2.PlotBasisFunction(0, True, 1)\n",
    "# bf2.PlotBasisFunction(1, True, 0)\n",
    "# bf2.PlotBasisFunction(1, True, 1)\n",
    "# bf2.PlotBasisFunction(2, True, 0)\n",
    "# bf2.PlotBasisFunction(2, True, 1)\n",
    "# bf2.PlotBasisFunction(3, True, 0)\n",
    "# bf2.PlotBasisFunction(3, True, 1)"
   ]
  },
  {
   "cell_type": "code",
   "execution_count": null,
   "metadata": {},
   "outputs": [],
   "source": []
  },
  {
   "cell_type": "code",
   "execution_count": 10,
   "metadata": {},
   "outputs": [
    {
     "data": {
      "text/plain": [
       "[[0.1127016653792583, 0.1127016653792583],\n",
       " [0.5, 0.5],\n",
       " [0.8872983346207417, 0.8872983346207417]]"
      ]
     },
     "execution_count": 10,
     "metadata": {},
     "output_type": "execute_result"
    }
   ],
   "source": [
    "q3 = gq2.Gauss_Quadrature2d(3,0,1,0,1)\n",
    "# q3.wts_2d\n",
    "# [0.3086419753086421, 0.7901234567901234, 0.3086419753086421]\n",
    "q3.pts_2d\n",
    "# [[-0.7745966692414834, -0.7745966692414834],\n",
    "#  [0.0, 0.0],\n",
    "#  [0.7745966692414834, 0.7745966692414834]]"
   ]
  },
  {
   "cell_type": "code",
   "execution_count": null,
   "metadata": {},
   "outputs": [],
   "source": []
  },
  {
   "cell_type": "code",
   "execution_count": null,
   "metadata": {},
   "outputs": [],
   "source": []
  },
  {
   "cell_type": "code",
   "execution_count": null,
   "metadata": {},
   "outputs": [],
   "source": []
  },
  {
   "cell_type": "code",
   "execution_count": 4,
   "metadata": {},
   "outputs": [],
   "source": [
    "# bf2.PlotBasisFunction(0, False, 0)\n"
   ]
  }
 ],
 "metadata": {
  "kernelspec": {
   "display_name": "Python 3",
   "language": "python",
   "name": "python3"
  },
  "language_info": {
   "codemirror_mode": {
    "name": "ipython",
    "version": 3
   },
   "file_extension": ".py",
   "mimetype": "text/x-python",
   "name": "python",
   "nbconvert_exporter": "python",
   "pygments_lexer": "ipython3",
   "version": "3.10.6"
  }
 },
 "nbformat": 4,
 "nbformat_minor": 2
}
