{
 "cells": [
  {
   "cell_type": "code",
   "execution_count": 18,
   "metadata": {},
   "outputs": [],
   "source": [
    "import hw6Basis_Functions2d as bf2\n",
    "import Gauss_Quadrature2d as gq2\n",
    "import Gauss_Quadrature1d as gq1\n",
    "import Poisson_1D as p1\n",
    "import scipy.integrate as spi\n",
    "import Basis_Functions as bf\n"
   ]
  },
  {
   "cell_type": "code",
   "execution_count": 19,
   "metadata": {},
   "outputs": [
    {
     "data": {
      "text/plain": [
       "{'(-1,-1)': [1.0, 0.0, 0.0, 0.0],\n",
       " '(-1,0)': [0.5, 0.0, 0.0, 0.5],\n",
       " '(-1,1)': [0.0, 0.0, 0.0, 1.0],\n",
       " '(0,-1)': [0.5, 0.5, 0.0, 0.0],\n",
       " '(0,0)': [0.25, 0.25, 0.25, 0.25],\n",
       " '(0,1)': [0.0, 0.0, 0.5, 0.5],\n",
       " '(1,-1)': [0.0, 1.0, 0.0, 0.0],\n",
       " '(1,0)': [0.0, 0.5, 0.5, 0.0],\n",
       " '(1,1)': [0.0, 0.0, 1.0, 0.0]}"
      ]
     },
     "execution_count": 19,
     "metadata": {},
     "output_type": "execute_result"
    }
   ],
   "source": [
    "def see_bfs():\n",
    "    xis = [-1,0,1]\n",
    "    etas = [-1,0,1]\n",
    "    vals_dict = {}\n",
    "    for xi in xis:\n",
    "        for eta in etas:\n",
    "            coord_key = '(' + str(xi) + ',' + str(eta) + ')'\n",
    "            vals = []\n",
    "            for a in range(0,4):\n",
    "                Na = bf.NBasis(a,xi,eta)\n",
    "                vals.append(Na)\n",
    "            vals_dict[coord_key] = vals\n",
    "    return vals_dict\n",
    "\n",
    "see_bfs()"
   ]
  },
  {
   "cell_type": "code",
   "execution_count": 24,
   "metadata": {},
   "outputs": [
    {
     "data": {
      "text/plain": [
       "(0.9999999999999999, 1.1102230246251564e-14)"
      ]
     },
     "execution_count": 24,
     "metadata": {},
     "output_type": "execute_result"
    }
   ],
   "source": [
    "# scipy.integrate.dblquad(func, a, b, gfun, hfun, args=(), epsabs=1.49e-08, epsrel=1.49e-08)[source]\n",
    "\n",
    "# Return the double (definite) integral of func(y, x) from x = a..b and y = gfun(x)..hfun(x).\n",
    "\n",
    "func = lambda x, y: 1\n",
    "xi = [-1, 1]\n",
    "gfun = lambda x: -1\n",
    "hfun = lambda x: 1\n",
    "\n",
    "# volume of surface z=1 over -1 to 1 in x and y should be 4\n",
    "# spi.dblquad(func,-1,1,gfun,hfun) # 4.0\n",
    "\n",
    "\n",
    "# for z=2, should be 8\n",
    "# func2 = lambda x, y: 2\n",
    "# spi.dblquad(func2,-1,1,gfun,hfun) # 8.0\n",
    "\n",
    "# for a 45 degree angle function centered at 0, should be 0 (2 pos, 2 neg)\n",
    "func3 = lambda y, x: (1/4)*(1-x)*(1+y)\n",
    "spi.dblquad(func3,-1,1,gfun,hfun)\n"
   ]
  },
  {
   "cell_type": "code",
   "execution_count": 25,
   "metadata": {},
   "outputs": [],
   "source": [
    "# CHECKING AGAINST MANUAL QUADRATURE\n",
    "\n",
    "q3_2d = gq2.Gauss_Quadrature2d(3)"
   ]
  },
  {
   "cell_type": "code",
   "execution_count": 28,
   "metadata": {},
   "outputs": [
    {
     "data": {
      "text/plain": [
       "[0.3086419753086421, 0.7901234567901234, 0.3086419753086421]"
      ]
     },
     "execution_count": 28,
     "metadata": {},
     "output_type": "execute_result"
    }
   ],
   "source": [
    "q3_2d.wts_2d"
   ]
  },
  {
   "cell_type": "code",
   "execution_count": null,
   "metadata": {},
   "outputs": [],
   "source": [
    "# FROM CONVO WITH KENDRICK: TRY QUADRATURE OF 7"
   ]
  }
 ],
 "metadata": {
  "kernelspec": {
   "display_name": "Python 3",
   "language": "python",
   "name": "python3"
  },
  "language_info": {
   "codemirror_mode": {
    "name": "ipython",
    "version": 3
   },
   "file_extension": ".py",
   "mimetype": "text/x-python",
   "name": "python",
   "nbconvert_exporter": "python",
   "pygments_lexer": "ipython3",
   "version": "3.10.6"
  }
 },
 "nbformat": 4,
 "nbformat_minor": 2
}
