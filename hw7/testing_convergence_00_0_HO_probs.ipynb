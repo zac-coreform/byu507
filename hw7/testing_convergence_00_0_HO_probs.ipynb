{
 "cells": [
  {
   "cell_type": "code",
   "execution_count": 1,
   "metadata": {},
   "outputs": [],
   "source": [
    "import hw7Gauss_Quadrature as gq\n",
    "import unittest\n",
    "import hw7Basis_Functions as bf\n",
    "import inspect\n",
    "import hw7Poisson_1D as p1\n",
    "import hw7Boundary_Conditions as bc\n",
    "import hw7Problems_Revised as pb\n",
    "import math\n",
    "import functools as ft\n",
    "import numpy as np\n",
    "import matplotlib.pyplot as plt\n",
    "import hw7Error_Values as ev\n",
    "from matplotlib.ticker import ScalarFormatter\n",
    "import matplotlib.ticker as ticker\n"
   ]
  },
  {
   "cell_type": "markdown",
   "metadata": {},
   "source": [
    "## Problem data"
   ]
  },
  {
   "cell_type": "code",
   "execution_count": 2,
   "metadata": {},
   "outputs": [],
   "source": [
    "f = lambda x: 20 * math.sin(15 * x)\n",
    "bcl = bc.BoundaryCondition(\"left\", \"Neu\", 0, 1, -1)\n",
    "bcr = bc.BoundaryCondition(\"right\", \"Dir\", 1, 0, 2)\n",
    "u_exact = lambda x: 2 + (1 - x) - (4/45)*math.sin(15) + (4/3) + (4/45)*math.sin(15*x) - (4*x/3)\n",
    "u_exact_derv = lambda x: (4/3)*math.cos(15 * x) - (7/3)\n"
   ]
  },
  {
   "cell_type": "markdown",
   "metadata": {},
   "source": [
    "## Plots for p = 1, 2"
   ]
  },
  {
   "cell_type": "code",
   "execution_count": 3,
   "metadata": {},
   "outputs": [],
   "source": [
    "# err_deg_1 = p1.PlotConvergenceComparison(deg=1, bcl=bcl, bcr=bcr, f=f, u_exact=u_exact, u_exact_derv=u_exact_derv)\n",
    "\n",
    "# err_deg_1.plot_l2_h1_errs()"
   ]
  },
  {
   "cell_type": "code",
   "execution_count": 4,
   "metadata": {},
   "outputs": [],
   "source": [
    "# err_deg_2 = p1.PlotConvergenceComparison(deg=2, bcl=bcl, bcr=bcr, f=f, u_exact=u_exact, u_exact_derv=u_exact_derv)\n",
    "\n",
    "# err_deg_2.plot_l2_h1_errs()"
   ]
  },
  {
   "cell_type": "markdown",
   "metadata": {},
   "source": [
    "## Plots for p = 3, 4, 5 (problem)\n",
    "\n",
    "For degrees 3 - 5 my FEM_Poisson1D code is generating an error (`LinAlgError: Singular matrix`) at the `np.linalg.solve` line. \n",
    "\n",
    "I haven't been able to figure out why yet -- still working on that. \n"
   ]
  },
  {
   "cell_type": "code",
   "execution_count": null,
   "metadata": {},
   "outputs": [],
   "source": []
  },
  {
   "cell_type": "markdown",
   "metadata": {},
   "source": [
    "### testing p=2 output of parts and whole"
   ]
  },
  {
   "cell_type": "code",
   "execution_count": 5,
   "metadata": {},
   "outputs": [
    {
     "data": {
      "text/plain": [
       "array([[ 2.66666667, -1.33333333, -1.33333333],\n",
       "       [-1.33333333,  2.66666667, -1.33333333],\n",
       "       [-1.33333333, -1.33333333,  2.66666667]])"
      ]
     },
     "execution_count": 5,
     "metadata": {},
     "output_type": "execute_result"
    }
   ],
   "source": [
    "xvals = p1.CreateXVals(0,1,2)\n",
    "\n",
    "p1.LocalStiffness(0, xvals, bcl, bcr, 2)\n",
    "# array([[ 2.66666667, -1.33333333, -1.33333333],\n",
    "#        [-1.33333333,  2.66666667, -1.33333333],\n",
    "#        [-1.33333333, -1.33333333,  2.66666667]])"
   ]
  },
  {
   "cell_type": "code",
   "execution_count": 6,
   "metadata": {},
   "outputs": [
    {
     "name": "stdout",
     "output_type": "stream",
     "text": [
      "STARTING FEM_POISSON\n",
      "calc'd n_quad for p=2 is 5\n",
      "ke for elem 0 is \n",
      "[[ 2.66666667 -1.33333333 -1.33333333]\n",
      " [-1.33333333  2.66666667 -1.33333333]\n",
      " [-1.33333333 -1.33333333  2.66666667]]\n",
      "fe for elem 0 is \n",
      "[[ 5.27937711]\n",
      " [ 1.06672722]\n",
      " [-0.89592266]]\n",
      "ke for elem 1 is \n",
      "[[ 2.66666667 -1.33333333 -1.33333333]\n",
      " [-1.33333333  2.66666667 -1.33333333]\n",
      " [-1.33333333 -1.33333333  2.66666667]]\n",
      "fe for elem 1 is \n",
      "[[ 3.8709222 ]\n",
      " [ 4.47292455]\n",
      " [-2.9250731 ]]\n",
      "final K is \n",
      "[[ 2.66666667 -1.33333333 -1.33333333  0.        ]\n",
      " [-1.33333333  2.66666667 -1.33333333  0.        ]\n",
      " [-1.33333333 -1.33333333  5.33333333 -1.33333333]\n",
      " [ 0.          0.         -1.33333333  2.66666667]]\n",
      "final F is \n",
      "[[5.27937711]\n",
      " [1.06672722]\n",
      " [2.97499954]\n",
      " [4.47292455]]\n"
     ]
    },
    {
     "data": {
      "text/plain": [
       "array([[8.68515343],\n",
       "       [7.63199096],\n",
       "       [5.77878307],\n",
       "       [4.56673824]])"
      ]
     },
     "execution_count": 6,
     "metadata": {},
     "output_type": "execute_result"
    }
   ],
   "source": [
    "# deg=3, bcl=bcl, bcr=bcr, f=f, u_exact=u_exact, u_exact_derv=u_exact_derv\n",
    "\n",
    "p1.FEM_Poisson(bcl, bcr, f, xvals, 2)\n",
    "# KE0 AS CALCD BY FEM_POISSON\n",
    "# [[ 2.66666667 -1.33333333 -1.33333333]\n",
    "#  [-1.33333333  2.66666667 -1.33333333]\n",
    "#  [-1.33333333 -1.33333333  2.66666667]]\n",
    "# KE1 AS CALCD BY FEM_POISSON\n",
    "# [[ 2.66666667 -1.33333333 -1.33333333]\n",
    "#  [-1.33333333  2.66666667 -1.33333333]\n",
    "#  [-1.33333333 -1.33333333  2.66666667]]\n",
    "\n",
    "# K GLOBAL AS CALCD BY FEM_POISSON\n",
    "# [[ 2.66666667 -1.33333333 -1.33333333  0.        ]\n",
    "#  [-1.33333333  2.66666667 -1.33333333  0.        ]\n",
    "#  [-1.33333333 -1.33333333  5.33333333 -1.33333333]\n",
    "#  [ 0.          0.         -1.33333333  2.66666667]]"
   ]
  },
  {
   "cell_type": "code",
   "execution_count": 7,
   "metadata": {},
   "outputs": [],
   "source": [
    "# err_deg_3 = p1.PlotConvergenceComparison(deg=3, bcl=bcl, bcr=bcr, f=f, u_exact=u_exact, u_exact_derv=u_exact_derv)\n",
    "\n",
    "# err_deg_3.plot_l2_h1_errs()"
   ]
  },
  {
   "cell_type": "code",
   "execution_count": 8,
   "metadata": {},
   "outputs": [],
   "source": [
    "# err_deg_4 = p1.PlotConvergenceComparison(deg=4, bcl=bcl, bcr=bcr, f=f, u_exact=u_exact, u_exact_derv=u_exact_derv)\n",
    "\n",
    "# err_deg_4.plot_l2_h1_errs()"
   ]
  },
  {
   "cell_type": "code",
   "execution_count": 9,
   "metadata": {},
   "outputs": [],
   "source": [
    "# err_deg_5 = p1.PlotConvergenceComparison(deg=5, bcl=bcl, bcr=bcr, f=f, u_exact=u_exact, u_exact_derv=u_exact_derv)\n",
    "\n",
    "# err_deg_5.plot_l2_h1_errs()"
   ]
  }
 ],
 "metadata": {
  "kernelspec": {
   "display_name": "Python 3",
   "language": "python",
   "name": "python3"
  },
  "language_info": {
   "codemirror_mode": {
    "name": "ipython",
    "version": 3
   },
   "file_extension": ".py",
   "mimetype": "text/x-python",
   "name": "python",
   "nbconvert_exporter": "python",
   "pygments_lexer": "ipython3",
   "version": "3.10.6"
  }
 },
 "nbformat": 4,
 "nbformat_minor": 2
}
