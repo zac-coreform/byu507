{
 "cells": [
  {
   "cell_type": "code",
   "execution_count": 56,
   "id": "653d4d12",
   "metadata": {},
   "outputs": [],
   "source": [
    "import basis as b\n",
    "import mesh as m\n",
    "import integrate as i\n",
    "import assembly as a"
   ]
  },
  {
   "cell_type": "code",
   "execution_count": 57,
   "metadata": {},
   "outputs": [
    {
     "name": "stdout",
     "output_type": "stream",
     "text": [
      "ien\n",
      " [[0 1]\n",
      " [1 2]]\n",
      "nodes\n",
      " [0.  0.5 1. ]\n",
      "n_elem 2\n",
      "elem domains [array([0. , 0.5]), array([0.5, 1. ])]\n",
      "initial ke [[0. 0.]\n",
      " [0. 0.]]\n",
      "xmin, xmax 0.0 0.5\n",
      "resulting ke\n",
      " [[ 0.125 -0.125]\n",
      " [-0.125  0.125]]\n",
      "initial ke [[0. 0.]\n",
      " [0. 0.]]\n",
      "xmin, xmax 0.5 1.0\n",
      "resulting ke\n",
      " [[ 0.125 -0.125]\n",
      " [-0.125  0.125]]\n",
      "elem kes [array([[ 0.125, -0.125],\n",
      "       [-0.125,  0.125]]), array([[ 0.125, -0.125],\n",
      "       [-0.125,  0.125]])]\n"
     ]
    }
   ],
   "source": [
    "m1 = m.generate_mesh(x0=0, x1=1, n_elem=2)\n",
    "# ien from mesh\n",
    "ien = m1[0]\n",
    "#nodes from mesh\n",
    "nodes = m1[1]\n",
    "print(\"ien\\n\", ien)\n",
    "print(\"nodes\\n\", nodes)\n",
    "# num elements from ien\n",
    "n_elem = m.get_num_elem_from_ien(ien)\n",
    "print(\"n_elem\", n_elem)\n",
    "# get element domain from ien and nodes\n",
    "edoms = []\n",
    "for e in range(0, n_elem):\n",
    "    ed = m.get_element_domain(ien=ien, nodes=nodes, elem_idx=e)\n",
    "    edoms.append(ed)\n",
    "print(\"elem domains\", edoms)\n",
    "\n",
    "cc = 1\n",
    "\n",
    "kes = []\n",
    "for e in range(0, n_elem):\n",
    "    ke = m.get_element_ke(e=e, ien=ien, nodes=nodes, constit_coeff=cc)\n",
    "    kes.append(ke)\n",
    "print(\"elem kes\", kes)\n",
    "\n",
    "# element indices from ien\n",
    "# for e in range(0, len)\n",
    "# i0 = ien[0,0]\n",
    "# i1 = ien[1,0]\n",
    "# print(\"indices\", i0, i1)\n",
    "# \n",
    "# nodes[0] == 0\n",
    "# nodes[1] == 1"
   ]
  },
  {
   "cell_type": "code",
   "execution_count": null,
   "metadata": {},
   "outputs": [],
   "source": []
  },
  {
   "cell_type": "code",
   "execution_count": 58,
   "metadata": {},
   "outputs": [
    {
     "data": {
      "text/plain": [
       "array([0., 1.])"
      ]
     },
     "execution_count": 58,
     "metadata": {},
     "output_type": "execute_result"
    }
   ],
   "source": [
    "mnodes"
   ]
  }
 ],
 "metadata": {
  "kernelspec": {
   "display_name": "Python 3 (ipykernel)",
   "language": "python",
   "name": "python3"
  },
  "language_info": {
   "codemirror_mode": {
    "name": "ipython",
    "version": 3
   },
   "file_extension": ".py",
   "mimetype": "text/x-python",
   "name": "python",
   "nbconvert_exporter": "python",
   "pygments_lexer": "ipython3",
   "version": "3.10.6"
  }
 },
 "nbformat": 4,
 "nbformat_minor": 5
}
