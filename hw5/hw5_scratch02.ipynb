{
 "cells": [
  {
   "cell_type": "code",
   "execution_count": 1,
   "metadata": {},
   "outputs": [],
   "source": [
    "# import bernstein.py\n",
    "import numpy as np\n",
    "import math\n",
    "import scipy.special as sp\n",
    "import sympy as sym\n",
    "import math\n",
    "import p3basis as bb\n",
    "import unittest"
   ]
  },
  {
   "cell_type": "code",
   "execution_count": 27,
   "metadata": {},
   "outputs": [
    {
     "data": {
      "text/plain": [
       "True"
      ]
     },
     "execution_count": 27,
     "metadata": {},
     "output_type": "execute_result"
    }
   ],
   "source": [
    "lmr = [0.0, 0.5, 1.0]\n",
    "\n",
    "# def lmr_eval_unit(deg, B_idx, goldvals):\n",
    "#     goldvals_ = goldvals.copy()\n",
    "#     goldvals_.reverse()\n",
    "#     for j in range(0, len(lmr)):\n",
    "#         print(\"j=\", j)\n",
    "#         xx = lmr[j]\n",
    "#         print(\"xx=\", xx)\n",
    "#         print(\"goldvals[j]=\", goldvals[j])\n",
    "#         bval = bb.eval_B(xmin=0, xmax=1, deg=deg, B_idx=B_idx, x=xx)\n",
    "#         print(\"bval\", bval)\n",
    "#         test_ = True\n",
    "#         # The reverse() method doesn't return any value. It updates the existing list.    \n",
    "#         if bval == goldvals_[j]:\n",
    "#             continue\n",
    "#         else:\n",
    "#             test_ = False\n",
    "#             break\n",
    "#     return test_\n",
    "# lmr_eval_unit(deg=1, B_idx=0, goldvals=[0.0, 0.5, 1.0])\n",
    "\n",
    "def lmr_eval_unit(deg, B_idx, goldvals):\n",
    "    for j in range(0, len(lmr)):\n",
    "        xx = lmr[j]\n",
    "        bval = bb.eval_B(xmin=0, xmax=1, deg=deg, B_idx=B_idx, x=xx)\n",
    "        test_ = True\n",
    "        if bval == goldvals[j]:\n",
    "            continue\n",
    "        else:\n",
    "            test_ = False\n",
    "            break\n",
    "    return test_\n",
    "\n",
    "lmr_eval_unit(deg=1, B_idx=0, goldvals=[1.0, 0.5, 0.0])\n",
    "\n",
    "\n"
   ]
  },
  {
   "cell_type": "code",
   "execution_count": null,
   "metadata": {},
   "outputs": [],
   "source": []
  },
  {
   "cell_type": "code",
   "execution_count": null,
   "metadata": {},
   "outputs": [
    {
     "data": {
      "text/plain": [
       "99.0"
      ]
     },
     "execution_count": 15,
     "metadata": {},
     "output_type": "execute_result"
    }
   ],
   "source": [
    "# BINOMIAL COEFFICIENT SHORTCUT\n",
    "def C(n,k):\n",
    "    return sp.binom(n, k)\n",
    "# C(0,0) # 1\n",
    "# C(0,1) # 0\n",
    "# C(1,0) # 1\n",
    "# C(1,1) # 1\n",
    "# C(2,0) # 1\n",
    "# C(2,1) # 2\n",
    "\n",
    "class Test_C(unittest.TestCase):\n",
    "    def test_C00(self):\n",
    "        goldC00out = 1\n",
    "        testC00out = C(n=0, k=0)\n",
    "        self.assertAlmostEqual(goldC00out, testC00out)\n",
    "    def test_C0X(self):\n",
    "        goldC0Xout = 0.0\n",
    "        testC0Xout_list = []\n",
    "        for j in range(0,11):\n",
    "            testC0Xout_list.append(C(n=0, k=j))\n",
    "            # these return -0.0 for evens, 0.0 odds, always sum to 0.0\n",
    "        testC0Xout = sum(testC0Xout_list)\n",
    "        self.assertAlmostEqual(goldC00out, testC00out)\n",
    "    def test_CX0(self):\n",
    "        goldCX0out = True\n",
    "        testCX0out = []\n",
    "        for j in range(0,11):\n",
    "            r = bool(C(n=j, k=0) == 1.0)\n",
    "            goldCX0out.append(r)\n",
    "        tesCX0out = min(r) # min is True (1) if all True, otherwise False (0)\n",
    "        self.assertAlmostEqual(goldCX0out, testCX0out)\n",
    "    def test_CX1(self):\n",
    "        goldCX1out = True\n",
    "        testCX1out = []\n",
    "        for j in range(0,11):\n",
    "            r = bool(C(n=j, k=1) == float(n))\n",
    "            goldCX1out.append(r)\n",
    "        tesCX1out = min(r) # min is True (1) if all True, otherwise False (0)\n",
    "        self.assertAlmostEqual(goldCX1out, testCX1out)\n",
    "\n",
    "\n",
    "\n",
    "# for j in range(0,11):\n",
    "C(n=99, k=1)\n",
    "\n"
   ]
  },
  {
   "cell_type": "code",
   "execution_count": null,
   "metadata": {},
   "outputs": [
    {
     "ename": "NameError",
     "evalue": "name 'b' is not defined",
     "output_type": "error",
     "traceback": [
      "\u001b[0;31m---------------------------------------------------------------------------\u001b[0m",
      "\u001b[0;31mNameError\u001b[0m                                 Traceback (most recent call last)",
      "\u001b[1;32m/Users/zwhite/Library/Mobile Documents/com~apple~CloudDocs/507/github/byu507/hw5/hw5_scratch02.ipynb Cell 6\u001b[0m line \u001b[0;36m3\n\u001b[1;32m     <a href='vscode-notebook-cell:/Users/zwhite/Library/Mobile%20Documents/com~apple~CloudDocs/507/github/byu507/hw5/hw5_scratch02.ipynb#W3sZmlsZQ%3D%3D?line=9'>10</a>\u001b[0m     \u001b[39mreturn\u001b[39;00m c_term \u001b[39m*\u001b[39m nix_term\n\u001b[1;32m     <a href='vscode-notebook-cell:/Users/zwhite/Library/Mobile%20Documents/com~apple~CloudDocs/507/github/byu507/hw5/hw5_scratch02.ipynb#W3sZmlsZQ%3D%3D?line=11'>12</a>\u001b[0m \u001b[39m# eval_B(xmin=0, xmax=1, deg=2, B_idx=0, x=0.75)\u001b[39;00m\n\u001b[1;32m     <a href='vscode-notebook-cell:/Users/zwhite/Library/Mobile%20Documents/com~apple~CloudDocs/507/github/byu507/hw5/hw5_scratch02.ipynb#W3sZmlsZQ%3D%3D?line=12'>13</a>\u001b[0m \u001b[39m# idx 0 @ 0 = 1\u001b[39;00m\n\u001b[1;32m     <a href='vscode-notebook-cell:/Users/zwhite/Library/Mobile%20Documents/com~apple~CloudDocs/507/github/byu507/hw5/hw5_scratch02.ipynb#W3sZmlsZQ%3D%3D?line=13'>14</a>\u001b[0m \u001b[39m# idx 1 @ 0 = 0\u001b[39;00m\n\u001b[0;32m   (...)\u001b[0m\n\u001b[1;32m     <a href='vscode-notebook-cell:/Users/zwhite/Library/Mobile%20Documents/com~apple~CloudDocs/507/github/byu507/hw5/hw5_scratch02.ipynb#W3sZmlsZQ%3D%3D?line=29'>30</a>\u001b[0m \u001b[39m# idx 2 @ 0.75 = 0.5625\u001b[39;00m\n\u001b[1;32m     <a href='vscode-notebook-cell:/Users/zwhite/Library/Mobile%20Documents/com~apple~CloudDocs/507/github/byu507/hw5/hw5_scratch02.ipynb#W3sZmlsZQ%3D%3D?line=30'>31</a>\u001b[0m \u001b[39m# OK, ALL ABOVE CONFIRMED CORRECT\u001b[39;00m\n\u001b[0;32m---> <a href='vscode-notebook-cell:/Users/zwhite/Library/Mobile%20Documents/com~apple~CloudDocs/507/github/byu507/hw5/hw5_scratch02.ipynb#W3sZmlsZQ%3D%3D?line=32'>33</a>\u001b[0m eval_B(xmin\u001b[39m=\u001b[39;49m\u001b[39m0\u001b[39;49m, xmax\u001b[39m=\u001b[39;49m\u001b[39m1\u001b[39;49m, deg\u001b[39m=\u001b[39;49m\u001b[39m1\u001b[39;49m, B_idx\u001b[39m=\u001b[39;49m\u001b[39m0\u001b[39;49m, x\u001b[39m=\u001b[39;49m\u001b[39m0\u001b[39;49m)\n\u001b[1;32m     <a href='vscode-notebook-cell:/Users/zwhite/Library/Mobile%20Documents/com~apple~CloudDocs/507/github/byu507/hw5/hw5_scratch02.ipynb#W3sZmlsZQ%3D%3D?line=33'>34</a>\u001b[0m \u001b[39m# eval_B(xmin=0, xmax=1, deg=2, B_idx=2, x=0.75)\u001b[39;00m\n",
      "\u001b[1;32m/Users/zwhite/Library/Mobile Documents/com~apple~CloudDocs/507/github/byu507/hw5/hw5_scratch02.ipynb Cell 6\u001b[0m line \u001b[0;36m3\n\u001b[1;32m      <a href='vscode-notebook-cell:/Users/zwhite/Library/Mobile%20Documents/com~apple~CloudDocs/507/github/byu507/hw5/hw5_scratch02.ipynb#W3sZmlsZQ%3D%3D?line=1'>2</a>\u001b[0m \u001b[39mdef\u001b[39;00m \u001b[39meval_B\u001b[39m(xmin, xmax, deg, B_idx, x):\n\u001b[0;32m----> <a href='vscode-notebook-cell:/Users/zwhite/Library/Mobile%20Documents/com~apple~CloudDocs/507/github/byu507/hw5/hw5_scratch02.ipynb#W3sZmlsZQ%3D%3D?line=2'>3</a>\u001b[0m     xi \u001b[39m=\u001b[39m b\u001b[39m.\u001b[39mmap_x_to_xi(xmin, xmax, x, basis_lower\u001b[39m=\u001b[39m\u001b[39m0\u001b[39m, basis_upper\u001b[39m=\u001b[39m\u001b[39m1\u001b[39m)\n\u001b[1;32m      <a href='vscode-notebook-cell:/Users/zwhite/Library/Mobile%20Documents/com~apple~CloudDocs/507/github/byu507/hw5/hw5_scratch02.ipynb#W3sZmlsZQ%3D%3D?line=3'>4</a>\u001b[0m     i \u001b[39m=\u001b[39m B_idx\n\u001b[1;32m      <a href='vscode-notebook-cell:/Users/zwhite/Library/Mobile%20Documents/com~apple~CloudDocs/507/github/byu507/hw5/hw5_scratch02.ipynb#W3sZmlsZQ%3D%3D?line=4'>5</a>\u001b[0m     n \u001b[39m=\u001b[39m deg\n",
      "\u001b[0;31mNameError\u001b[0m: name 'b' is not defined"
     ]
    }
   ],
   "source": [
    "# EXISTING BERNSTEIN EVAL FUNCTION\n",
    "def eval_B(xmin, xmax, deg, B_idx, x):\n",
    "    xi = b.map_x_to_xi(xmin, xmax, x, basis_lower=0, basis_upper=1)\n",
    "    i = B_idx\n",
    "    n = deg\n",
    "    c_term = C(n,i)\n",
    "    print(\"c_term:\", c_term)\n",
    "    nix_term = (1 - x)**(n - i) * x**i\n",
    "    print(\"nix_term:\", nix_term)\n",
    "    return c_term * nix_term\n",
    "\n",
    "# eval_B(xmin=0, xmax=1, deg=2, B_idx=0, x=0.75)\n",
    "# idx 0 @ 0 = 1\n",
    "# idx 0 @ 0.5 = 0.25\n",
    "# idx 0 @ 1 = 0\n",
    "\n",
    "# idx 1 @ 0 = 0\n",
    "# idx 1 @ 0.5 = 0.5\n",
    "# idx 1 @ 1 = 0\n",
    "\n",
    "# idx 2 @ 0 = 0\n",
    "# idx 2 @ 0.5 = 0.25\n",
    "# idx 2 @ 1 = 1\n",
    "\n",
    "# idx 0 @ 0.5 = 0.25\n",
    "# idx 1 @ 0.5 = 0.5\n",
    "#/ idx 2 @ 0.5 = 0.25\n",
    "\n",
    "# deg=2 at arbitrary point\n",
    "# per https://www.geogebra.org/m/x8VjQkjm?doneurl=%2Fmat4u\n",
    "# idx 0 @ 0.75 = 0.0625\n",
    "# idx 1 @ 0.75 = 0.375\n",
    "# idx 2 @ 0.75 = 0.5625\n",
    "# OK, ALL ABOVE CONFIRMED CORRECT\n",
    "\n",
    "eval_B(xmin=0, xmax=1, deg=1, B_idx=0, x=0)\n",
    "# eval_B(xmin=0, xmax=1, deg=2, B_idx=2, x=0.75)\n",
    "\n"
   ]
  },
  {
   "cell_type": "code",
   "execution_count": null,
   "metadata": {},
   "outputs": [],
   "source": [
    "# FORMULA FOR DERIVATIVE OF C TERM\n",
    "    # https://math.stackexchange.com/questions/1941994/derivative-of-the-binomial-binom-x-n-with-respect-to-x\n",
    "    # deriv C(x,n) = sum k=1 to n, (((-1)^{k-1})/k) * C(x, n-k)\n",
    "    # TRANSLATED TO n,i\n",
    "    # sum k=1 to i, (((-1)^{k-1})/k) * C(x, i-k)\n",
    "\n",
    "# NOW TO CODE THE DERIVATIVE OF THE C-TERM\n",
    "def C_prime(p, A):\n",
    "    sum = 0\n",
    "    for j in range(1, A+1):\n",
    "        sum += ((-1)**(j-1) / j) * C(p, A-j)\n",
    "    return sum\n",
    "\n",
    "\n",
    "# C(3, 0), C_prime(3, 0)\n",
    "# TODO: COMPARE TO FORMULA GIVEN IN CLASS"
   ]
  },
  {
   "cell_type": "code",
   "execution_count": null,
   "metadata": {},
   "outputs": [],
   "source": [
    "# DERIVATIVE OF THE NON=BINOMIAL TERM OF THE BERNSTEIN EQN\n",
    "t,n,i = sym.symbols('t,n i')\n",
    "# def B_eqn_base(t,n,i):\n",
    "#     return (1 - t)**(n - i) * t**i\n",
    "# def B_eqn_base_prime(t,n,i):\n",
    "#     return sym.diff(B_eqn_base(t,n,i),t)\n",
    "# # print(B_eqn_base_prime(t,n,i)) # this will print the expression\n",
    "# B_eqn_base_prime = sym.lambdify((t,n,i),B_eqn_base_prime(t,n,i),\"numpy\")\n",
    "\n",
    "def B_eqn_nix(t,n,i):\n",
    "    return (1 - t)**(n - i)\n",
    "def B_eqn_x(t,n,i):\n",
    "    return t**i\n",
    "def B_eqn_nix_prime(t,n,i):\n",
    "    return sym.diff(B_eqn_nix(t,n,i),t)\n",
    "def B_eqn_x_prime(t,n,i):\n",
    "    return sym.diff(B_eqn_x(t,n,i),t)\n",
    "# print(B_eqn_base_prime(t,n,i)) # this will print the expression\n",
    "B_nix_prime = sym.lambdify((t,n,i),B_eqn_nix_prime(t,n,i),\"numpy\")\n",
    "B_x_prime = sym.lambdify((t,n,i),B_eqn_x_prime(t,n,i),\"numpy\")"
   ]
  },
  {
   "cell_type": "code",
   "execution_count": null,
   "metadata": {},
   "outputs": [
    {
     "name": "stdout",
     "output_type": "stream",
     "text": [
      "c_term: 1.0\n",
      "nix_term: 1.0\n"
     ]
    },
    {
     "data": {
      "text/plain": [
       "1.0"
      ]
     },
     "execution_count": 7,
     "metadata": {},
     "output_type": "execute_result"
    }
   ],
   "source": [
    "\n",
    "# ASSUMING THAT'S CORRECT, WE CAN NOW DO THE PRODUCT RULE ON THE BERNSTEIN FORMULA TO GET ITS DERIVATIVE\n",
    "# d/dx[f(x)g(g)] = f(x)g'(x) + f'(x)g(x)\n",
    "# bernstein formula is: c_term * (1 - x)**(n - i) * x**i, or \n",
    "# call this c_term * nix_term * x_term\n",
    "# call product of nix and x terms nixx_term\n",
    "# so product rule says:\n",
    "    # c_term * nixx_term_prime + c_term_prime * nixx_term\n",
    "    # where nix_term_prime is:\n",
    "        # nix_term_prime = (nix_term * x_term_prime + nix_term_prime * x_term)\n",
    "    # giving final equation of: \n",
    "        # c_term * (nix_term * x_term_prime + nix_term_prime * x_term) + c_term_prime * nixx_term\n",
    "\n",
    "def eval_B_prime(xmin, xmax, deg, B_idx, x):\n",
    "    # print(\"running eval_B_prime\")\n",
    "    xi =b.map_x_to_xi(xmin, xmax, x, basis_lower=0, basis_upper=1)\n",
    "    print(\"xi=\", xi)\n",
    "    i = B_idx\n",
    "    n = deg\n",
    "    c_term = C(n,i)\n",
    "    nix_term = B_eqn_nix(t=x, n=n, i=i)\n",
    "    x_term = B_eqn_x(t=x, n=n, i=i)\n",
    "    nixx_term = nix_term * x_term\n",
    "    c_term_prime = C_prime(n,i)\n",
    "    nix_term_prime = B_nix_prime(x, n, i)\n",
    "    x_term_prime = B_x_prime(x, n, i)\n",
    "    # print(nix_term_prime(t,n,i))\n",
    "    # c_term * (nix_term * x_term_prime + nix_term_prime * x_term) + c_term_prime * nixx_term\n",
    "    return (c_term * (nix_term * x_term_prime + nix_term_prime * x_term)) + c_term_prime * nixx_term\n",
    "\n",
    "# TESTING: SINCE B00=1, DERIV SHOULD BE 0 FOR ANY X\n",
    "B00 = eval_B(xmin=0, xmax=1, deg=0, B_idx=0, x=0.33)\n",
    "B00\n",
    "# B00_prime = eval_B_prime(xmin=0, xmax=1, deg=0, B_idx=0, x=0.1)\n",
    "# B00_prime\n",
    "# testing: since B01=t, deriv should be 1 for any x\n",
    "# B01 = eval_B(xmin=0, xmax=1, deg=0, B_idx=1, x=0)\n",
    "# print(\"B01, x=0.8\",B01)\n",
    "# B01_prime = eval_B_prime(xmin=0, xmax=1, deg=0, B_idx=1, x=0.8)\n",
    "# B01_prime\n",
    "\n",
    "# testing: since B22=t^2 and B22=t^2-2t+1, their derivs should be 2x and 2x-2, respectively.\n",
    "# B22_prime_025 = eval_B_prime(xmin=0, xmax=1, deg=2, B_idx=2, x=0.25) \n",
    "# B22_prime_025 \n",
    "# B22 = t^2, so B22_prime = 2t\n",
    "# 2 * 0.25 = 0.5\n",
    "\n",
    "\n",
    "# B2005 = eval_B_prime(xmin=0, xmax=1, deg=2, B_idx=0, x=0.75) # 2 * 0.75 - 2 = -0.25\n",
    "# print(B22025, B2005) \n"
   ]
  },
  {
   "cell_type": "code",
   "execution_count": null,
   "metadata": {},
   "outputs": [],
   "source": [
    "t,n,i = sym.symbols('t,n i')\n",
    "\n",
    "def B_eqn_nix(t,n,i):\n",
    "    return (1 - t)**(n - i)\n",
    "def B_eqn_x(t,n,i):\n",
    "    return t**i\n",
    "def B_eqn_nix_prime(t,n,i):\n",
    "    return sym.diff(B_eqn_nix(t,n,i),t)\n",
    "def B_eqn_x_prime(t,n,i):\n",
    "    return sym.diff(B_eqn_x(t,n,i),t)\n",
    "B_nix_prime = sym.lambdify((t,n,i),B_eqn_nix_prime(t,n,i),\"numpy\")\n",
    "B_x_prime = sym.lambdify((t,n,i),B_eqn_x_prime(t,n,i),\"numpy\")"
   ]
  }
 ],
 "metadata": {
  "kernelspec": {
   "display_name": "Python 3",
   "language": "python",
   "name": "python3"
  },
  "language_info": {
   "codemirror_mode": {
    "name": "ipython",
    "version": 3
   },
   "file_extension": ".py",
   "mimetype": "text/x-python",
   "name": "python",
   "nbconvert_exporter": "python",
   "pygments_lexer": "ipython3",
   "version": "3.10.6"
  }
 },
 "nbformat": 4,
 "nbformat_minor": 2
}
