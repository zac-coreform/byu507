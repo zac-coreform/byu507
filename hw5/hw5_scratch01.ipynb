{
 "cells": [
  {
   "cell_type": "code",
   "execution_count": 113,
   "metadata": {},
   "outputs": [],
   "source": [
    "# import bernstein.py\n",
    "import numpy as np\n",
    "import math\n",
    "import scipy.special as sp\n",
    "import sympy as sym\n",
    "import math\n",
    "import p3basis as b"
   ]
  },
  {
   "cell_type": "code",
   "execution_count": 114,
   "metadata": {},
   "outputs": [
    {
     "data": {
      "text/plain": [
       "2.0"
      ]
     },
     "execution_count": 114,
     "metadata": {},
     "output_type": "execute_result"
    }
   ],
   "source": [
    "# BINOMIAL COEFFICIENT SHORTCUT\n",
    "def C(n,k):\n",
    "    return sp.binom(n, k)\n",
    "# C(0,0) # 1\n",
    "# C(0,1) # 0\n",
    "# C(1,0) # 1\n",
    "# C(1,1) # 1\n",
    "# C(2,0) # 1\n",
    "C(2,1) # 2"
   ]
  },
  {
   "cell_type": "code",
   "execution_count": 115,
   "metadata": {},
   "outputs": [
    {
     "name": "stdout",
     "output_type": "stream",
     "text": [
      "c_term: 1.0\n",
      "nix_term: 1\n"
     ]
    },
    {
     "data": {
      "text/plain": [
       "1.0"
      ]
     },
     "execution_count": 115,
     "metadata": {},
     "output_type": "execute_result"
    }
   ],
   "source": [
    "# EXISTING BERNSTEIN EVAL FUNCTION\n",
    "def eval_B(xmin, xmax, deg, B_idx, x):\n",
    "    xi = b.map_x_to_xi(xmin, xmax, x, basis_lower=0, basis_upper=1)\n",
    "    i = B_idx\n",
    "    n = deg\n",
    "    c_term = C(n,i)\n",
    "    print(\"c_term:\", c_term)\n",
    "    nix_term = (1 - x)**(n - i) * x**i\n",
    "    print(\"nix_term:\", nix_term)\n",
    "    return c_term * nix_term\n",
    "\n",
    "# eval_B(xmin=0, xmax=1, deg=2, B_idx=0, x=0.75)\n",
    "#// idx 0 @ 0 = 1\n",
    "#// idx 1 @ 0 = 0\n",
    "#// idx 2 @ 0 = 0\n",
    "#// idx 0 @ 1 = 0\n",
    "#// idx 1 @ 1 = 0\n",
    "#// idx 2 @ 1 = 1\n",
    "#// idx 0 @ 0.5 = 0.25\n",
    "#// idx 1 @ 0.5 = 0.5\n",
    "#// idx 2 @ 0.5 = 0.25\n",
    "#// idx 0 @ 0.5 = 0.25\n",
    "#// idx 1 @ 0.5 = 0.5\n",
    "# // idx 2 @ 0.5 = 0.25\n",
    "\n",
    "# deg=2 at arbitrary points\n",
    "# per https://www.geogebra.org/m/x8VjQkjm?doneurl=%2Fmat4u\n",
    "# idx 0 @ 0.75 = 0.0625\n",
    "# idx 1 @ 0.75 = 0.375\n",
    "# idx 2 @ 0.75 = 0.5625\n",
    "# OK, ALL ABOVE CONFIRMED CORRECT\n",
    "\n",
    "eval_B(xmin=0, xmax=1, deg=1, B_idx=0, x=0)\n",
    "# eval_B(xmin=0, xmax=1, deg=2, B_idx=2, x=0.75)\n",
    "\n"
   ]
  },
  {
   "cell_type": "code",
   "execution_count": 116,
   "metadata": {},
   "outputs": [],
   "source": [
    "# FORMULA FOR DERIVATIVE OF C TERM\n",
    "    # https://math.stackexchange.com/questions/1941994/derivative-of-the-binomial-binom-x-n-with-respect-to-x\n",
    "    # deriv C(x,n) = sum k=1 to n, (((-1)^{k-1})/k) * C(x, n-k)\n",
    "    # TRANSLATED TO n,i\n",
    "    # sum k=1 to i, (((-1)^{k-1})/k) * C(x, i-k)\n",
    "\n",
    "# NOW TO CODE THE DERIVATIVE OF THE C-TERM\n",
    "def C_prime(p, A):\n",
    "    sum = 0\n",
    "    for j in range(1, A+1):\n",
    "        sum += ((-1)**(j-1) / j) * C(p, A-j)\n",
    "    return sum\n",
    "\n",
    "\n",
    "# C(3, 0), C_prime(3, 0)\n",
    "# TODO: COMPARE TO FORMULA GIVEN IN CLASS"
   ]
  },
  {
   "cell_type": "code",
   "execution_count": 117,
   "metadata": {},
   "outputs": [],
   "source": [
    "# DERIVATIVE OF THE NON=BINOMIAL TERM OF THE BERNSTEIN EQN\n",
    "t,n,i = sym.symbols('t,n i')\n",
    "# def B_eqn_base(t,n,i):\n",
    "#     return (1 - t)**(n - i) * t**i\n",
    "# def B_eqn_base_prime(t,n,i):\n",
    "#     return sym.diff(B_eqn_base(t,n,i),t)\n",
    "# # print(B_eqn_base_prime(t,n,i)) # this will print the expression\n",
    "# B_eqn_base_prime = sym.lambdify((t,n,i),B_eqn_base_prime(t,n,i),\"numpy\")\n",
    "\n",
    "def B_eqn_nix(t,n,i):\n",
    "    return (1 - t)**(n - i)\n",
    "def B_eqn_x(t,n,i):\n",
    "    return t**i\n",
    "def B_eqn_nix_prime(t,n,i):\n",
    "    return sym.diff(B_eqn_nix(t,n,i),t)\n",
    "def B_eqn_x_prime(t,n,i):\n",
    "    return sym.diff(B_eqn_x(t,n,i),t)\n",
    "# print(B_eqn_base_prime(t,n,i)) # this will print the expression\n",
    "B_nix_prime = sym.lambdify((t,n,i),B_eqn_nix_prime(t,n,i),\"numpy\")\n",
    "B_x_prime = sym.lambdify((t,n,i),B_eqn_x_prime(t,n,i),\"numpy\")"
   ]
  },
  {
   "cell_type": "code",
   "execution_count": 119,
   "metadata": {},
   "outputs": [
    {
     "name": "stdout",
     "output_type": "stream",
     "text": [
      "c_term: 1.0\n",
      "nix_term: 1.0\n"
     ]
    },
    {
     "data": {
      "text/plain": [
       "1.0"
      ]
     },
     "execution_count": 119,
     "metadata": {},
     "output_type": "execute_result"
    }
   ],
   "source": [
    "\n",
    "# ASSUMING THAT'S CORRECT, WE CAN NOW DO THE PRODUCT RULE ON THE BERNSTEIN FORMULA TO GET ITS DERIVATIVE\n",
    "# d/dx[f(x)g(g)] = f(x)g'(x) + f'(x)g(x)\n",
    "# bernstein formula is: c_term * (1 - x)**(n - i) * x**i, or \n",
    "# call this c_term * nix_term * x_term\n",
    "# call product of nix and x terms nixx_term\n",
    "# so product rule says:\n",
    "    # c_term * nixx_term_prime + c_term_prime * nixx_term\n",
    "    # where nix_term_prime is:\n",
    "        # nix_term_prime = (nix_term * x_term_prime + nix_term_prime * x_term)\n",
    "    # giving final equation of: \n",
    "        # c_term * (nix_term * x_term_prime + nix_term_prime * x_term) + c_term_prime * nixx_term\n",
    "\n",
    "def eval_B_prime(xmin, xmax, deg, B_idx, x):\n",
    "    # print(\"running eval_B_prime\")\n",
    "    xi =b.map_x_to_xi(xmin, xmax, x, basis_lower=0, basis_upper=1)\n",
    "    print(\"xi=\", xi)\n",
    "    i = B_idx\n",
    "    n = deg\n",
    "    c_term = C(n,i)\n",
    "    nix_term = B_eqn_nix(t=x, n=n, i=i)\n",
    "    x_term = B_eqn_x(t=x, n=n, i=i)\n",
    "    nixx_term = nix_term * x_term\n",
    "    c_term_prime = C_prime(n,i)\n",
    "    nix_term_prime = B_nix_prime(x, n, i)\n",
    "    x_term_prime = B_x_prime(x, n, i)\n",
    "    # print(nix_term_prime(t,n,i))\n",
    "    # c_term * (nix_term * x_term_prime + nix_term_prime * x_term) + c_term_prime * nixx_term\n",
    "    return (c_term * (nix_term * x_term_prime + nix_term_prime * x_term)) + c_term_prime * nixx_term\n",
    "\n",
    "# TESTING: SINCE B00=1, DERIV SHOULD BE 0 FOR ANY X\n",
    "B00 = eval_B(xmin=0, xmax=1, deg=0, B_idx=0, x=0.33)\n",
    "B00\n",
    "# B00_prime = eval_B_prime(xmin=0, xmax=1, deg=0, B_idx=0, x=0.1)\n",
    "# B00_prime\n",
    "# testing: since B01=t, deriv should be 1 for any x\n",
    "# B01 = eval_B(xmin=0, xmax=1, deg=0, B_idx=1, x=0)\n",
    "# print(\"B01, x=0.8\",B01)\n",
    "# B01_prime = eval_B_prime(xmin=0, xmax=1, deg=0, B_idx=1, x=0.8)\n",
    "# B01_prime\n",
    "\n",
    "# testing: since B22=t^2 and B22=t^2-2t+1, their derivs should be 2x and 2x-2, respectively.\n",
    "# B22_prime_025 = eval_B_prime(xmin=0, xmax=1, deg=2, B_idx=2, x=0.25) \n",
    "# B22_prime_025 \n",
    "# B22 = t^2, so B22_prime = 2t\n",
    "# 2 * 0.25 = 0.5\n",
    "\n",
    "\n",
    "# B2005 = eval_B_prime(xmin=0, xmax=1, deg=2, B_idx=0, x=0.75) # 2 * 0.75 - 2 = -0.25\n",
    "# print(B22025, B2005) \n"
   ]
  },
  {
   "cell_type": "code",
   "execution_count": null,
   "metadata": {},
   "outputs": [],
   "source": []
  }
 ],
 "metadata": {
  "kernelspec": {
   "display_name": "Python 3",
   "language": "python",
   "name": "python3"
  },
  "language_info": {
   "codemirror_mode": {
    "name": "ipython",
    "version": 3
   },
   "file_extension": ".py",
   "mimetype": "text/x-python",
   "name": "python",
   "nbconvert_exporter": "python",
   "pygments_lexer": "ipython3",
   "version": "3.10.6"
  }
 },
 "nbformat": 4,
 "nbformat_minor": 2
}
