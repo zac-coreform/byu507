{
 "cells": [
  {
   "cell_type": "code",
   "execution_count": 1,
   "metadata": {},
   "outputs": [],
   "source": [
    "# import bernstein.py\n",
    "import numpy as np\n",
    "import math\n",
    "import scipy.special as sp\n",
    "import sympy as sym\n",
    "import math\n",
    "import p3basis as b"
   ]
  },
  {
   "cell_type": "code",
   "execution_count": 17,
   "metadata": {},
   "outputs": [
    {
     "ename": "TypeError",
     "evalue": "ufunc 'binom' not supported for the input types, and the inputs could not be safely coerced to any supported types according to the casting rule ''safe''",
     "output_type": "error",
     "traceback": [
      "\u001b[0;31m---------------------------------------------------------------------------\u001b[0m",
      "\u001b[0;31mTypeError\u001b[0m                                 Traceback (most recent call last)",
      "\u001b[1;32m/Users/zwhite/Library/Mobile Documents/com~apple~CloudDocs/507/github/byu507/hw5/hw5_scratch.ipynb Cell 2\u001b[0m line \u001b[0;36m4\n\u001b[1;32m     <a href='vscode-notebook-cell:/Users/zwhite/Library/Mobile%20Documents/com~apple~CloudDocs/507/github/byu507/hw5/hw5_scratch.ipynb#W6sZmlsZQ%3D%3D?line=35'>36</a>\u001b[0m     \u001b[39mreturn\u001b[39;00m sym\u001b[39m.\u001b[39mdiff(B_eqn_base(t,n,i),t)\n\u001b[1;32m     <a href='vscode-notebook-cell:/Users/zwhite/Library/Mobile%20Documents/com~apple~CloudDocs/507/github/byu507/hw5/hw5_scratch.ipynb#W6sZmlsZQ%3D%3D?line=36'>37</a>\u001b[0m \u001b[39m# print(B_eqn_base_prime(t,n,i)) # this will print the expression\u001b[39;00m\n\u001b[0;32m---> <a href='vscode-notebook-cell:/Users/zwhite/Library/Mobile%20Documents/com~apple~CloudDocs/507/github/byu507/hw5/hw5_scratch.ipynb#W6sZmlsZQ%3D%3D?line=39'>40</a>\u001b[0m DerivativeOfBbase \u001b[39m=\u001b[39m sym\u001b[39m.\u001b[39mlambdify((t,n,i),B_eqn_base_prime(t,n,i),\u001b[39m\"\u001b[39m\u001b[39mnumpy\u001b[39m\u001b[39m\"\u001b[39m)\n\u001b[1;32m     <a href='vscode-notebook-cell:/Users/zwhite/Library/Mobile%20Documents/com~apple~CloudDocs/507/github/byu507/hw5/hw5_scratch.ipynb#W6sZmlsZQ%3D%3D?line=41'>42</a>\u001b[0m \u001b[39m# TESTING \u001b[39;00m\n\u001b[1;32m     <a href='vscode-notebook-cell:/Users/zwhite/Library/Mobile%20Documents/com~apple~CloudDocs/507/github/byu507/hw5/hw5_scratch.ipynb#W6sZmlsZQ%3D%3D?line=42'>43</a>\u001b[0m     \u001b[39m# the binomial coeff term is a constant\u001b[39;00m\n\u001b[1;32m     <a href='vscode-notebook-cell:/Users/zwhite/Library/Mobile%20Documents/com~apple~CloudDocs/507/github/byu507/hw5/hw5_scratch.ipynb#W6sZmlsZQ%3D%3D?line=43'>44</a>\u001b[0m     \u001b[39m# known Bernstein polynomials include (first numeral=degree, second=bf index) and expected derivatives:\u001b[39;00m\n\u001b[0;32m   (...)\u001b[0m\n\u001b[1;32m     <a href='vscode-notebook-cell:/Users/zwhite/Library/Mobile%20Documents/com~apple~CloudDocs/507/github/byu507/hw5/hw5_scratch.ipynb#W6sZmlsZQ%3D%3D?line=51'>52</a>\u001b[0m \u001b[39m# print(DerivativeOfBbase(t=0.5,n=2,i=0)) # 2t-2=0 @t=1 << DIV BY 0\u001b[39;00m\n\u001b[1;32m     <a href='vscode-notebook-cell:/Users/zwhite/Library/Mobile%20Documents/com~apple~CloudDocs/507/github/byu507/hw5/hw5_scratch.ipynb#W6sZmlsZQ%3D%3D?line=52'>53</a>\u001b[0m \u001b[39m# print(DerivativeOfBbase(t=0.5,n=2,i=0)) # 2t-2=-1 @t=0.5 \u001b[39;00m\n",
      "\u001b[1;32m/Users/zwhite/Library/Mobile Documents/com~apple~CloudDocs/507/github/byu507/hw5/hw5_scratch.ipynb Cell 2\u001b[0m line \u001b[0;36m3\n\u001b[1;32m     <a href='vscode-notebook-cell:/Users/zwhite/Library/Mobile%20Documents/com~apple~CloudDocs/507/github/byu507/hw5/hw5_scratch.ipynb#W6sZmlsZQ%3D%3D?line=34'>35</a>\u001b[0m \u001b[39mdef\u001b[39;00m \u001b[39mB_eqn_base_prime\u001b[39m(t,n,i):\n\u001b[0;32m---> <a href='vscode-notebook-cell:/Users/zwhite/Library/Mobile%20Documents/com~apple~CloudDocs/507/github/byu507/hw5/hw5_scratch.ipynb#W6sZmlsZQ%3D%3D?line=35'>36</a>\u001b[0m     \u001b[39mreturn\u001b[39;00m sym\u001b[39m.\u001b[39mdiff(B_eqn_base(t,n,i),t)\n",
      "\u001b[1;32m/Users/zwhite/Library/Mobile Documents/com~apple~CloudDocs/507/github/byu507/hw5/hw5_scratch.ipynb Cell 2\u001b[0m line \u001b[0;36m3\n\u001b[1;32m     <a href='vscode-notebook-cell:/Users/zwhite/Library/Mobile%20Documents/com~apple~CloudDocs/507/github/byu507/hw5/hw5_scratch.ipynb#W6sZmlsZQ%3D%3D?line=32'>33</a>\u001b[0m \u001b[39mdef\u001b[39;00m \u001b[39mB_eqn_base\u001b[39m(t,n,i):\n\u001b[0;32m---> <a href='vscode-notebook-cell:/Users/zwhite/Library/Mobile%20Documents/com~apple~CloudDocs/507/github/byu507/hw5/hw5_scratch.ipynb#W6sZmlsZQ%3D%3D?line=33'>34</a>\u001b[0m     \u001b[39mreturn\u001b[39;00m sp\u001b[39m.\u001b[39;49mbinom(n,i) \u001b[39m*\u001b[39m (\u001b[39m1\u001b[39m \u001b[39m-\u001b[39m t)\u001b[39m*\u001b[39m\u001b[39m*\u001b[39m(n \u001b[39m-\u001b[39m i) \u001b[39m*\u001b[39m t\u001b[39m*\u001b[39m\u001b[39m*\u001b[39mi\n",
      "\u001b[0;31mTypeError\u001b[0m: ufunc 'binom' not supported for the input types, and the inputs could not be safely coerced to any supported types according to the casting rule ''safe''"
     ]
    }
   ],
   "source": [
    "# SCIPY FUNCTION FOR GETTING BINOMIAL COEFFICIENT\n",
    "# sp.binom(n, k)d\n",
    "# can't be used as input to lambdify to get derivative, so....\n",
    "\n",
    "# FORMULA FOR DERIVATIVE OF C TERM\n",
    "# https://math.stackexchange.com/questions/1941994/derivative-of-the-binomial-binom-x-n-with-respect-to-x\n",
    "# deriv C(x,n) = sum k=1 to n, ((-1)^{k-1})/k * C(x, n-k)\n",
    "\n",
    "# EXISTING BERNSTEIN EVAL FUNCTION\n",
    "def eval_B_basis(xmin, xmax, deg, B_idx, x):\n",
    "    xi = map_x_to_xi(xmin, xmax, x, basis_lower=0, basis_upper=1)\n",
    "    i = B_idx\n",
    "    n = deg\n",
    "    c_term = C(n,i)\n",
    "    return c_term * (1 - x)**(n - i) * x**i\n",
    "\n",
    "# PROCESS FOR GENERATING THE CODE OF A FUNCTION'S DERIVATIVE\n",
    "# https://stackoverflow.com/questions/44269943/how-do-you-evaluate-a-derivative-in-python?rq=3\n",
    "# MULTIPLE VARIABLES -----------------------\n",
    "# x,y = sym.symbols('x y')\n",
    "t,n,i = sym.symbols('t,n i')\n",
    "\n",
    "# EXAMPLE GIVEN IN STACK PAGE\n",
    "# def g(x,y):\n",
    "#     return x**2 + x*y**2\n",
    "# def gprime(x,y):\n",
    "#     return sym.diff(g(x,y),x)\n",
    "# print(gprime(x,y)) #This works.\n",
    "# DerivativeOfG = sym.lambdify((x,y),gprime(x,y),\"numpy\")\n",
    "# print(DerivativeOfG(1,1))\n",
    "\n",
    "# B_eqn_base = lambda x,n,i: (1 - x)**(n - i) * x**i\n",
    "# APPLICATION NON-BINOMIAL PART OF BERNSTEIN EQUATION\n",
    "def B_eqn_base(t,n,i):\n",
    "    return (1 - t)**(n - i) * t**i\n",
    "def B_eqn_base_prime(t,n,i):\n",
    "    return sym.diff(B_eqn_base(t,n,i),t)\n",
    "# print(B_eqn_base_prime(t,n,i)) # this will print the expression\n",
    "\n",
    "\n",
    "# DerivativeOfBbase = sym.lambdify((t,n,i),B_eqn_base_prime(t,n,i),\"numpy\")\n",
    "\n",
    "# TESTING \n",
    "    # the binomial coeff term is a constant\n",
    "    # known Bernstein polynomials include (first numeral=degree, second=bf index) and expected derivatives:\n",
    "        # B00 = 1               <<-- 0\n",
    "        # B01 = 1-t             <<-- -1\n",
    "        # B02= t^2 - 2t + 1     <<-- 2t-2\n",
    "        # B22= t^2              <<-- 2t\n",
    "# print(DerivativeOfBbase(t=0.25,n=0,i=0)) # 0 ✓\n",
    "# print(B_eqn_base(t=0.25,n=0,i=1)*sp.binom(0,1))\n",
    "# print(DerivativeOfBbase(t=0.25,n=0,i=1)) # \n",
    "# print(DerivativeOfBbase(t=0.5,n=2,i=0)) # 2t-2=0 @t=1 << DIV BY 0\n",
    "# print(DerivativeOfBbase(t=0.5,n=2,i=0)) # 2t-2=-1 @t=0.5 "
   ]
  },
  {
   "cell_type": "markdown",
   "metadata": {},
   "source": []
  }
 ],
 "metadata": {
  "kernelspec": {
   "display_name": "Python 3",
   "language": "python",
   "name": "python3"
  },
  "language_info": {
   "codemirror_mode": {
    "name": "ipython",
    "version": 3
   },
   "file_extension": ".py",
   "mimetype": "text/x-python",
   "name": "python",
   "nbconvert_exporter": "python",
   "pygments_lexer": "ipython3",
   "version": "3.10.6"
  }
 },
 "nbformat": 4,
 "nbformat_minor": 2
}
