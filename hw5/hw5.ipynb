{
 "cells": [
  {
   "cell_type": "code",
   "execution_count": 13,
   "metadata": {},
   "outputs": [],
   "source": [
    "# import bernstein.py\n",
    "import numpy as np\n",
    "import math\n",
    "import scipy.special as sp\n",
    "import sympy as sym\n",
    "import math\n",
    "import p3basis as b"
   ]
  },
  {
   "cell_type": "markdown",
   "metadata": {},
   "source": [
    "# 1 Tasks\n",
    "Modify your code from Project 2 to operate on more general basis functions. We could choose either Lagrange basis functions or Bernstein polynomials, but for this class we will choose Bernstein polynomials. To complete this task, you will need to:"
   ]
  },
  {
   "cell_type": "markdown",
   "metadata": {},
   "source": [
    "1. Change the function you use to compute basis functions to work on arbitrary polynomial degree. This means that you will need to have your function that evaluates a basis function to additionally take as input polynomial degree. Use the following formula for Bernstein polynomial bases, where $t \\in [0,1]$:\n",
    "$$ N^{p}_{A} = {p \\choose A} t^{A}(1 - t)^{p-A}$$"
   ]
  },
  {
   "cell_type": "code",
   "execution_count": 29,
   "metadata": {},
   "outputs": [
    {
     "name": "stdout",
     "output_type": "stream",
     "text": [
      "<scipy.interpolate._interpolate.BPoly object at 0x11930fba0>\n"
     ]
    }
   ],
   "source": [
    "# https://github.com/scipy/scipy/blob/v1.11.3/scipy/interpolate/_interpolate.py#L1481-L2032\n",
    "# from scipy.interpolate import BPoly as bp\n",
    "# x = [0, 1]\n",
    "# c = [[1], [2], [3]]\n",
    "# aa = bp(c, x)\n",
    "# print(aa)"
   ]
  },
  {
   "cell_type": "code",
   "execution_count": 26,
   "metadata": {},
   "outputs": [
    {
     "data": {
      "text/plain": [
       "-0.5"
      ]
     },
     "execution_count": 26,
     "metadata": {},
     "output_type": "execute_result"
    }
   ],
   "source": [
    "# def map_x_to_xi(X0, X1, x, basis_lower=-1, basis_upper=1):\n",
    "#     A = X0\n",
    "#     B = X1\n",
    "#     a = basis_lower\n",
    "#     b = basis_upper\n",
    "#     xi = ((x - A) / (B - A)) * (b - a) + a\n",
    "#     return xi\n",
    "\n",
    "# def map_xi_to_x(X0, X1, xi, basis_lower=-1, basis_upper=1):\n",
    "#     A = X0\n",
    "#     B = X1\n",
    "#     a = basis_lower\n",
    "#     b = basis_upper\n",
    "#     X = ((xi - a) / (b - a)) * (B - A) + A\n",
    "#     return X\n",
    "\n",
    "# def C(n,k):\n",
    "#     return sp.binom(n, k)\n",
    "\n",
    "# def eval_B_basis(xmin, xmax, deg, B_idx, x):\n",
    "#     xi = map_x_to_xi(xmin, xmax, x, basis_lower=0, basis_upper=1)\n",
    "#     i = B_idx\n",
    "#     n = deg\n",
    "#     c_term = C(n,i)\n",
    "#     return c_term * (1 - x)**(n - i) * x**i\n",
    "\n",
    "# # b10_05 = eval_B_basis(xmin=0, xmax=1, deg=1, B_idx=0, x=0.5)\n",
    "# # b11_05 = eval_B_basis(xmin=0, xmax=1, deg=1, B_idx=1, x=0.5)\n",
    "# # print(b10_05, b11_05)\n",
    "# # b20_05 = eval_B_basis(xmin=0, xmax=1, deg=2, B_idx=0, x=0.5)\n",
    "# # print(b20_05)\n",
    "\n",
    "# # map_x_to_xi(X0=0,X1=1,x=0.25, basis_lower=-1, basis_upper=1)\n",
    "# # map_xi_to_x(0,1,0.75, basis_lower=0, basis_upper=1)"
   ]
  },
  {
   "cell_type": "markdown",
   "metadata": {},
   "source": [
    "2. Change the function you use to compute derivatives of basis functions to work on arbitrary polynomial degree. We talked about how to do this in class. If you forgot, just use the product rule on the above equation."
   ]
  },
  {
   "cell_type": "code",
   "execution_count": 15,
   "metadata": {},
   "outputs": [
    {
     "name": "stdout",
     "output_type": "stream",
     "text": [
      "2*y + z**2\n",
      "i*xx**i*(1 - xx)**(-i + n)/xx + xx**i*(1 - xx)**(-i + n)*(i - n)/(1 - xx)\n",
      "3\n",
      "-1.0\n"
     ]
    }
   ],
   "source": [
    "# sp.binom(n, k)\n",
    "# https://math.stackexchange.com/questions/1941994/derivative-of-the-binomial-binom-x-n-with-respect-to-x\n",
    "# deriv C(x,n) = sum k=1 to n, ((-1)^{k-1})/k * C(x, n-k)\n",
    "\n",
    "# def eval_B_basis(xmin, xmax, deg, B_idx, x):\n",
    "#     xi = map_x_to_xi(xmin, xmax, x, basis_lower=0, basis_upper=1)\n",
    "#     i = B_idx\n",
    "#     n = deg\n",
    "#     c_term = C(n,i)\n",
    "#     return c_term * (1 - x)**(n - i) * x**i\n",
    "\n",
    "# https://stackoverflow.com/questions/44269943/how-do-you-evaluate-a-derivative-in-python?rq=3\n",
    "# MULTIPLE VARIABLES -----------------------\n",
    "y,z = sym.symbols('y z')\n",
    "xx,n,i = sym.symbols('xx,n i')\n",
    "\n",
    "def g(y,z):\n",
    "    return y**2 + y*z**2\n",
    "\n",
    "# B_eqn_base = lambda x,n,i: (1 - x)**(n - i) * x**i\n",
    "\n",
    "def B_eqn_base(xx,n,i):\n",
    "    return (1 - xx)**(n - i) * xx**i\n",
    "\n",
    "def gprime(y,z):\n",
    "    return sym.diff(g(y,z),y)\n",
    "\n",
    "def B_eqn_base_prime(xx,n,i):\n",
    "    return sym.diff(B_eqn_base(xx,n,i),xx)\n",
    "\n",
    "print(gprime(y,z)) #This works.\n",
    "print(B_eqn_base_prime(xx,n,i)) #This works.\n",
    "\n",
    "DerivativeOfG = sym.lambdify((y,z),gprime(y,z),\"numpy\")\n",
    "DerivativeOfBbase = sym.lambdify((xx,n,i),B_eqn_base_prime(xx,n,i),\"numpy\")\n",
    "\n",
    "print(DerivativeOfG(1,1))\n",
    "\n",
    "# B01 = 1-t\n",
    "# B22=t^2 \n",
    "# B02=t^2 - 2t + 1\n",
    "# print(DerivativeOfBbase(xx=0.5,n=1,i=0)) # -1\n",
    "# print(DerivativeOfBbase(xx=2,n=2,i=2)) # 2t=4 @t=2\n",
    "print(DerivativeOfBbase(xx=0.5,n=2,i=0)) # 2t-2=0 @t=1 << DIV BY 0\n",
    "print(DerivativeOfBbase(xx=0.5,n=2,i=0)) # 2t-2=-1 @t=0.5 "
   ]
  },
  {
   "cell_type": "markdown",
   "metadata": {},
   "source": [
    "3. Modify your function that computes the mapping from a parent domain to the current element ($x(\\xi)$) and your function that computes the derivative of this map ($x_{i,\\xi}(\\xi)$) to operate on the interval [0, 1] rather than [−1, 1].\n",
    "\n",
    "$\\quad\\quad$ **See code block above**"
   ]
  },
  {
   "cell_type": "code",
   "execution_count": null,
   "metadata": {},
   "outputs": [],
   "source": []
  },
  {
   "cell_type": "markdown",
   "metadata": {},
   "source": []
  }
 ],
 "metadata": {
  "kernelspec": {
   "display_name": "Python 3",
   "language": "python",
   "name": "python3"
  },
  "language_info": {
   "codemirror_mode": {
    "name": "ipython",
    "version": 3
   },
   "file_extension": ".py",
   "mimetype": "text/x-python",
   "name": "python",
   "nbconvert_exporter": "python",
   "pygments_lexer": "ipython3",
   "version": "3.10.6"
  }
 },
 "nbformat": 4,
 "nbformat_minor": 2
}
