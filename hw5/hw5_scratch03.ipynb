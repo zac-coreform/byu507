{
 "cells": [
  {
   "cell_type": "code",
   "execution_count": 1,
   "metadata": {},
   "outputs": [],
   "source": [
    "# import bernstein.py\n",
    "import numpy as np\n",
    "import math\n",
    "import scipy.special as sp\n",
    "import sympy as sym\n",
    "import math\n",
    "import p3basis as bb\n",
    "import unittest"
   ]
  },
  {
   "cell_type": "code",
   "execution_count": 2,
   "metadata": {},
   "outputs": [],
   "source": [
    "# EXISTING BERNSTEIN EVAL FUNCTION\n",
    "def eval_B(xmin, xmax, deg, B_idx, x):\n",
    "    xi = b.map_x_to_xi(xmin, xmax, x, basis_lower=0, basis_upper=1)\n",
    "    i = B_idx\n",
    "    n = deg\n",
    "    c_term = C(n,i)\n",
    "    print(\"c_term:\", c_term)\n",
    "    nix_term = (1 - x)**(n - i) * x**i\n",
    "    print(\"nix_term:\", nix_term)\n",
    "    return c_term * nix_term\n"
   ]
  },
  {
   "cell_type": "code",
   "execution_count": 3,
   "metadata": {},
   "outputs": [],
   "source": [
    "# FORMULA FOR DERIVATIVE OF C TERM\n",
    "    # https://math.stackexchange.com/questions/1941994/derivative-of-the-binomial-binom-x-n-with-respect-to-x\n",
    "    # deriv C(x,n) = sum k=1 to n, (((-1)^{k-1})/k) * C(x, n-k)\n",
    "    # TRANSLATED TO n,i\n",
    "    # sum k=1 to i, (((-1)^{k-1})/k) * C(x, i-k)\n",
    "\n",
    "# NOW TO CODE THE DERIVATIVE OF THE C-TERM\n",
    "def C_prime(p, A):\n",
    "    sum = 0\n",
    "    for j in range(1, A+1):\n",
    "        sum += ((-1)**(j-1) / j) * C(p, A-j)\n",
    "    return sum\n",
    "\n",
    "\n",
    "# C(3, 0), C_prime(3, 0)\n",
    "# TODO: COMPARE TO FORMULA GIVEN IN CLASS"
   ]
  },
  {
   "cell_type": "code",
   "execution_count": 8,
   "metadata": {},
   "outputs": [
    {
     "name": "stdout",
     "output_type": "stream",
     "text": [
      "(1 - t)**(-i + n)*(i - n)/(1 - t)\n",
      "i*t**i/t\n"
     ]
    }
   ],
   "source": [
    "t,n,i = sym.symbols('t,n i')\n",
    "\n",
    "def B_eqn_nix(t,n,i):\n",
    "    return (1 - t)**(n - i)\n",
    "# d/dt((1 - t)^(n - i)) = -(n - i) (1 - t)^(n - (1 + i))\n",
    "def B_eqn_x(t,n,i):\n",
    "    return t**i\n",
    "# i*t**(i-1)\n",
    "def B_eqn_nix_prime(t,n,i):\n",
    "    return sym.diff(B_eqn_nix(t,n,i),t)\n",
    "print(B_eqn_nix_prime(t,n,i))\n",
    "# (1 - t)**(-i + n) * (i - n)/(1 - t) \n",
    "# div by 0 if t=1\n",
    "def B_eqn_x_prime(t,n,i):\n",
    "    return sym.diff(B_eqn_x(t,n,i),t)\n",
    "print(B_eqn_x_prime(t,n,i))\n",
    "# i*t**i/t <-- div by 0 if t=0\n",
    "\n",
    "B_nix_prime = sym.lambdify((t,n,i),B_eqn_nix_prime(t,n,i),\"numpy\")\n",
    "B_x_prime = sym.lambdify((t,n,i),B_eqn_x_prime(t,n,i),\"numpy\")"
   ]
  },
  {
   "cell_type": "code",
   "execution_count": 7,
   "metadata": {},
   "outputs": [],
   "source": [
    "\n",
    "\n",
    "# def eval_B_prime(xmin, xmax, deg, B_idx, x):\n",
    "#     # print(\"running eval_B_prime\")\n",
    "#     xi =b.map_x_to_xi(xmin, xmax, x, basis_lower=0, basis_upper=1)\n",
    "#     print(\"xi=\", xi)\n",
    "#     i = B_idx\n",
    "#     n = deg\n",
    "#     c_term = C(n,i)\n",
    "#     nix_term = B_eqn_nix(t=x, n=n, i=i)\n",
    "#     x_term = B_eqn_x(t=x, n=n, i=i)\n",
    "#     nixx_term = nix_term * x_term\n",
    "#     c_term_prime = C_prime(n,i)\n",
    "#     nix_term_prime = B_nix_prime(x, n, i)\n",
    "#     x_term_prime = B_x_prime(x, n, i)\n",
    "#     # print(nix_term_prime(t,n,i))\n",
    "#     # c_term * (nix_term * x_term_prime + nix_term_prime * x_term) + c_term_prime * nixx_term\n",
    "#     return (c_term * (nix_term * x_term_prime + nix_term_prime * x_term)) + c_term_prime * nixx_term\n",
    "\n"
   ]
  },
  {
   "cell_type": "code",
   "execution_count": null,
   "metadata": {},
   "outputs": [],
   "source": []
  }
 ],
 "metadata": {
  "kernelspec": {
   "display_name": "Python 3",
   "language": "python",
   "name": "python3"
  },
  "language_info": {
   "codemirror_mode": {
    "name": "ipython",
    "version": 3
   },
   "file_extension": ".py",
   "mimetype": "text/x-python",
   "name": "python",
   "nbconvert_exporter": "python",
   "pygments_lexer": "ipython3",
   "version": "3.10.6"
  }
 },
 "nbformat": 4,
 "nbformat_minor": 2
}
