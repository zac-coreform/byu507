{
 "cells": [
  {
   "cell_type": "code",
   "execution_count": 3,
   "id": "4035b786",
   "metadata": {},
   "outputs": [
    {
     "ename": "SyntaxError",
     "evalue": "invalid syntax (1278301278.py, line 4)",
     "output_type": "error",
     "traceback": [
      "\u001b[0;36m  Cell \u001b[0;32mIn [3], line 4\u001b[0;36m\u001b[0m\n\u001b[0;31m    import code/basis as b\u001b[0m\n\u001b[0m               ^\u001b[0m\n\u001b[0;31mSyntaxError\u001b[0m\u001b[0;31m:\u001b[0m invalid syntax\n"
     ]
    }
   ],
   "source": [
    "import numpy as np\n",
    "import math\n",
    "import scipy.special as sp\n"
   ]
  },
  {
   "cell_type": "code",
   "execution_count": null,
   "id": "67ba93dc",
   "metadata": {},
   "outputs": [
    {
     "data": {
      "text/plain": [
       "0.0"
      ]
     },
     "execution_count": 38,
     "metadata": {},
     "output_type": "execute_result"
    }
   ],
   "source": [
    "def C(n,k):\n",
    "    return sp.binom(n, k)\n",
    "\n",
    "\n",
    "# C(3,0)\n",
    "C(0,3)\n"
   ]
  },
  {
   "cell_type": "code",
   "execution_count": null,
   "metadata": {},
   "outputs": [
    {
     "data": {
      "text/plain": [
       "0.25"
      ]
     },
     "execution_count": 45,
     "metadata": {},
     "output_type": "execute_result"
    }
   ],
   "source": [
    "# B(n,k)(x) = C(n,k) * (1-x)**(n-k) * x**k\n",
    "\n",
    "def Bn(idx, deg, x):\n",
    "    i = idx\n",
    "    n = deg\n",
    "    c_term = C(n,i)\n",
    "    return c_term * (1 - x)**(n - i) * x**i\n",
    "\n",
    "Bn(idx=0, deg=0, x=99) # 1\n",
    "Bn(idx=0, deg=1, x=0.5) == Bn(idx=1, deg=1, x=0.5) == 0.5# \n",
    "Bn(0,2,0.5)"
   ]
  },
  {
   "cell_type": "code",
   "execution_count": null,
   "metadata": {},
   "outputs": [],
   "source": []
  }
 ],
 "metadata": {
  "@webio": {
   "lastCommId": null,
   "lastKernelId": null
  },
  "kernelspec": {
   "display_name": "Python 3 (ipykernel)",
   "language": "python",
   "name": "python3"
  },
  "language_info": {
   "codemirror_mode": {
    "name": "ipython",
    "version": 3
   },
   "file_extension": ".py",
   "mimetype": "text/x-python",
   "name": "python",
   "nbconvert_exporter": "python",
   "pygments_lexer": "ipython3",
   "version": "3.10.6"
  }
 },
 "nbformat": 4,
 "nbformat_minor": 5
}
