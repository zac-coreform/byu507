{
 "cells": [
  {
   "cell_type": "code",
   "execution_count": 1,
   "metadata": {},
   "outputs": [
    {
     "ename": "SyntaxError",
     "evalue": "invalid syntax (363197058.py, line 6)",
     "output_type": "error",
     "traceback": [
      "\u001b[0;36m  Cell \u001b[0;32mIn [1], line 6\u001b[0;36m\u001b[0m\n\u001b[0;31m    import ../project2/basis as b\u001b[0m\n\u001b[0m           ^\u001b[0m\n\u001b[0;31mSyntaxError\u001b[0m\u001b[0;31m:\u001b[0m invalid syntax\n"
     ]
    }
   ],
   "source": [
    "# import bernstein.py\n",
    "import numpy as np\n",
    "import math\n",
    "import scipy.special as sp\n",
    "\n",
    "import ../project2/basis as b"
   ]
  },
  {
   "cell_type": "markdown",
   "metadata": {},
   "source": [
    "# 1 Tasks\n",
    "Modify your code from Project 2 to operate on more general basis functions. We could choose either Lagrange basis functions or Bernstein polynomials, but for this class we will choose Bernstein polynomials. To complete this task, you will need to:"
   ]
  },
  {
   "cell_type": "markdown",
   "metadata": {},
   "source": [
    "1. Change the function you use to compute basis functions to work on arbitrary polynomial degree. This means that you will need to have your function that evaluates a basis function to additionally take as input polynomial degree. Use the following formula for Bernstein polynomial bases, where $t \\in [0,1]$:\n",
    "$$ N^{p}_{A} = {p \\choose A} t^{A}(1 - t)^{p-A}$$"
   ]
  },
  {
   "cell_type": "code",
   "execution_count": null,
   "metadata": {},
   "outputs": [],
   "source": [
    "# def C(n,k):\n",
    "#     return sp.binom(n, k)\n",
    "\n",
    "# def Bn(idx, deg, x):\n",
    "#     i = idx\n",
    "#     n = deg\n",
    "#     c_term = C(n,i)\n",
    "#     return c_term * (1 - x)**(n - i) * x**i\n",
    "\n",
    "\n"
   ]
  },
  {
   "cell_type": "markdown",
   "metadata": {},
   "source": [
    "2. Change the function you use to compute derivatives of basis functions to work on arbitrary polynomial degree. We talked about how to do this in class. If you forgot, just use the product rule on the above equation."
   ]
  },
  {
   "cell_type": "markdown",
   "metadata": {},
   "source": [
    "3. Modify your function that computes the mapping from a parent domain to the current element ($x(\\xi)$) and your function that computes the derivative of this map ($x_{i,\\xi}(\\xi)$) to operate on the interval [0, 1] rather than [−1, 1]."
   ]
  },
  {
   "cell_type": "markdown",
   "metadata": {},
   "source": []
  }
 ],
 "metadata": {
  "kernelspec": {
   "display_name": "Python 3",
   "language": "python",
   "name": "python3"
  },
  "language_info": {
   "codemirror_mode": {
    "name": "ipython",
    "version": 3
   },
   "file_extension": ".py",
   "mimetype": "text/x-python",
   "name": "python",
   "nbconvert_exporter": "python",
   "pygments_lexer": "ipython3",
   "version": "3.10.6"
  }
 },
 "nbformat": 4,
 "nbformat_minor": 2
}
