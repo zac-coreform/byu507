{
 "cells": [
  {
   "cell_type": "code",
   "execution_count": 2,
   "id": "653d4d12",
   "metadata": {},
   "outputs": [
    {
     "name": "stdout",
     "output_type": "stream",
     "text": [
      "arr1 is \n",
      "[[0.125]\n",
      " [0.25 ]\n",
      " [0.25 ]\n",
      " [0.25 ]\n",
      " [0.125]]\n"
     ]
    }
   ],
   "source": [
    "import basis as bs\n",
    "import mesh as mm\n",
    "import integrate as ig\n",
    "import assembly as asm\n",
    "import numpy.polynomial.legendre as lg\n",
    "import numpy as np"
   ]
  },
  {
   "cell_type": "code",
   "execution_count": 3,
   "metadata": {},
   "outputs": [],
   "source": [
    "def fast_fe(e, mesh, f):\n",
    "    e_dom = mm.generate_elements(mesh).get_element_domain(e)\n",
    "    print(f\"e dom is {e_dom}\")\n",
    "    e_x0 = e_dom[0]\n",
    "    e_x1 = e_dom[1]\n",
    "    f_x0 = f(e_x0)\n",
    "    f_x1 = f(e_x1)\n",
    "    print(f\"f() of the dom pts: {f_x0} and {f_x1}\")\n",
    "    f_21 = (2*f_x0 + f_x1)\n",
    "    print(f\"2f1 + f2 is {f_21}\")\n",
    "    f_12 = (f_x0 + 2 * f_x1)\n",
    "    print(f\"f1 + 2f2 is {f_12}\")\n",
    "    he = e_x1 - e_x0\n",
    "    print(f\"he is {he}, so he/6 is {he/6}\")\n",
    "    fe_0 = he/6 * f_21\n",
    "    print(f\"he6*(2f1 + f2) is {fe_0}\")\n",
    "    fe_1 = he/6 * f_12\n",
    "    print(f\"he6*(f1 + 2f2) is {fe_1}\")\n",
    "    fe = np.array(([fe_0], [fe_1]))\n",
    "    return fe"
   ]
  },
  {
   "cell_type": "code",
   "execution_count": 4,
   "metadata": {},
   "outputs": [
    {
     "data": {
      "text/plain": [
       "array([0.5, 1. ])"
      ]
     },
     "execution_count": 4,
     "metadata": {},
     "output_type": "execute_result"
    }
   ],
   "source": [
    "m1 = mm.generate_mesh(0, 1, 2)\n",
    "m1e = mm.generate_elements(m1)\n",
    "m1e.get_element_domain(1) # array([0., 1.])\n"
   ]
  },
  {
   "cell_type": "code",
   "execution_count": 5,
   "metadata": {},
   "outputs": [
    {
     "name": "stdout",
     "output_type": "stream",
     "text": [
      "e dom is [0.  0.5]\n",
      "f() of the dom pts: 0.0 and 0.5\n",
      "2f1 + f2 is 0.5\n",
      "f1 + 2f2 is 1.0\n",
      "he is 0.5, so he/6 is 0.08333333333333333\n",
      "he6*(2f1 + f2) is 0.041666666666666664\n",
      "he6*(f1 + 2f2) is 0.08333333333333333\n"
     ]
    },
    {
     "data": {
      "text/plain": [
       "array([[0.04166667],\n",
       "       [0.08333333]])"
      ]
     },
     "execution_count": 5,
     "metadata": {},
     "output_type": "execute_result"
    }
   ],
   "source": [
    "f1 = lambda x: x\n",
    "m10fe = fast_fe(0,m1,f1)\n",
    "m10fe\n",
    "\n",
    "# so for 0,1 and 2 elements with f=1, fe entries are 0.25\n",
    "# and for same with f = x, fe entries are array([[0.04166667],[0.08333333]])\n",
    "\n",
    "# now question is whether we can get the same results from the full calculation"
   ]
  },
  {
   "cell_type": "code",
   "execution_count": 6,
   "metadata": {},
   "outputs": [],
   "source": [
    "# def gen_fe_2(mesh,e):\n",
    "#     mx_ = np.zeros((2,1))\n",
    "#     els = mesh.generate_elements\n",
    "#     e_dom = mm.get_element_domain(e)\n",
    "#     e_x0 = e_dom[0]\n",
    "#     e_x1 = e_dom[1]\n",
    "#     for a in range(0,2):\n",
    "#         N_a_term = bs.eval_basis(xmin=e_x0, xmax=e_x1, bf_idx=a, x_in=0)\n",
    "#         def quad_fn(xi=0, a=0, b=0):\n",
    "#             return lambda xi: \n",
    "#         integrand = lambda x: N_a(x) * forcing_function(x)\n",
    "#         integrand = lambda x: bs.eval_basis(xmin=e_x0, xmax=e_x1, bf_idx=a, x_in=x)\n",
    "#         fe[a] = integrate_by_quadrature(function=integrand, x_lower=xmin, x_upper=xmax, n_quad=1)"
   ]
  },
  {
   "cell_type": "code",
   "execution_count": 7,
   "metadata": {},
   "outputs": [
    {
     "name": "stdout",
     "output_type": "stream",
     "text": [
      "\n",
      " gen_fe for element idx=0\n",
      "integral of Na*f = 2.0\n",
      "integral of Na*f = 0.0\n"
     ]
    },
    {
     "data": {
      "text/plain": [
       "array([[0.],\n",
       "       [0.]])"
      ]
     },
     "execution_count": 7,
     "metadata": {},
     "output_type": "execute_result"
    }
   ],
   "source": [
    "\n",
    "def gen_fe2(mesh, e, f):\n",
    "    print(f\"\\n gen_fe for element idx={e}\")\n",
    "    # temp fast_fe\n",
    "    mesh = mm.generate_mesh(0,1,4)\n",
    "    e_dom = mm.generate_elements(mesh).get_element_domain(e)\n",
    "    e_x0 = e_dom[0]\n",
    "    e_x1 = e_dom[1]\n",
    "    # f_x0 = f(e_x0)\n",
    "    # f_x1 = f(e_x1)\n",
    "    # f_x = lambda x: f(x)\n",
    "    # Na_x = lambda a, x: bs.eval_basis(bf_idx=a, xmin=e_x0, xmax = e_x1, x_in=x)\n",
    "    # prod_ = lambda a, x: Na_x(x) * f_x(x)\n",
    "    for a in range(0,2):\n",
    "        fe = np.zeros((2,1))\n",
    "        Na_xi = lambda xi: bs.eval_basis(bf_idx=a, xmin=e_x0, xmax = e_x1, x_in=xi)\n",
    "        f_xi = lambda xi: f(xi)\n",
    "        prod = lambda xi: Na_xi(xi) * f_xi(xi)\n",
    "        integ = ig.integrate_by_quadrature(function=prod, x_lower=e_x0, x_upper=e_x1, n_quad=1)\n",
    "        print(f\"integral of Na*f = {integ}\")        \n",
    "        fe[a] += integ\n",
    "    return fe\n",
    "\n",
    "ffnn = lambda x: 1\n",
    "m4 = mm.generate_mesh(0, 1, 4)\n",
    "gen_fe2(m4, 0, ffnn)"
   ]
  },
  {
   "cell_type": "code",
   "execution_count": null,
   "metadata": {},
   "outputs": [],
   "source": []
  }
 ],
 "metadata": {
  "kernelspec": {
   "display_name": "Python 3 (ipykernel)",
   "language": "python",
   "name": "python3"
  },
  "language_info": {
   "codemirror_mode": {
    "name": "ipython",
    "version": 3
   },
   "file_extension": ".py",
   "mimetype": "text/x-python",
   "name": "python",
   "nbconvert_exporter": "python",
   "pygments_lexer": "ipython3",
   "version": "3.10.6"
  }
 },
 "nbformat": 4,
 "nbformat_minor": 5
}
