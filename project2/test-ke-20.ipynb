{
 "cells": [
  {
   "cell_type": "code",
   "execution_count": 1,
   "id": "653d4d12",
   "metadata": {},
   "outputs": [],
   "source": [
    "import basis as bs\n",
    "import mesh as mm\n",
    "import integrate as ig\n",
    "import assembly as asm\n",
    "import numpy.polynomial.legendre as lg\n",
    "import numpy as np"
   ]
  },
  {
   "cell_type": "code",
   "execution_count": 2,
   "metadata": {},
   "outputs": [],
   "source": [
    "class generate_mesh():\n",
    "    def __init__(self, phys_xmin, phys_xmax, n_elem):\n",
    "        self.phys_xmin = phys_xmin\n",
    "        self.phys_xmax = phys_xmax\n",
    "        self.n_elem = n_elem\n",
    "        \n",
    "        self.gen_all_nodes()\n",
    "        self.gen_elem_node_coord_indices()\n",
    "\n",
    "    def gen_all_nodes(self):\n",
    "        self.all_nodes = np.linspace(self.phys_xmin, self.phys_xmax, self.n_elem + 1)\n",
    "        return self.all_nodes\n",
    "    def gen_elem_node_coord_indices(self):\n",
    "        arr = np.zeros((2, self.n_elem), dtype=int)\n",
    "        for n in range(0, self.n_elem):\n",
    "            arr[0,n] = n\n",
    "            arr[1,n] = n+1\n",
    "        self.elem_node_coord_indices = arr\n",
    "        return self.elem_node_coord_indices\n",
    "    def get_element_domain(self, e):\n",
    "        n0_idx = int(self.elem_node_coord_indices[0,e])\n",
    "        n1_idx = int(self.elem_node_coord_indices[1,e])\n",
    "        self.element_domain = np.array((self.all_nodes[n0_idx], self.all_nodes[n1_idx]))\n",
    "        return self.element_domain"
   ]
  },
  {
   "cell_type": "code",
   "execution_count": 3,
   "metadata": {},
   "outputs": [],
   "source": [
    "\n",
    "def gen_ke(mesh, e):\n",
    "    # for e in range(0, self.n_elem):\n",
    "    # mx = bs.stock_mx()\n",
    "    mx_ = np.zeros((2,2))\n",
    "    e_dom = mesh.get_element_domain(e)\n",
    "    e_x0 = e_dom[0]\n",
    "    e_x1 = e_dom[1]\n",
    "    mx_mult = bs.mxm(e_x0, e_x1)\n",
    "    inv_term = bs.x_xi_deriv_inv(e_x0, e_x1)\n",
    "    for a in range(0,2):\n",
    "        N_a_xi_term = bs.N_a_xi(a)\n",
    "        for b in range(0,2):\n",
    "            N_b_xi_term = bs.N_a_xi(b)\n",
    "            ke_entry_incr = N_a_xi_term * N_b_xi_term * inv_term\n",
    "            mx_[a, b] += ke_entry_incr\n",
    "    ke = mx_\n",
    "    return ke"
   ]
  },
  {
   "cell_type": "code",
   "execution_count": 12,
   "metadata": {},
   "outputs": [
    {
     "data": {
      "text/plain": [
       "0.5"
      ]
     },
     "execution_count": 12,
     "metadata": {},
     "output_type": "execute_result"
    }
   ],
   "source": [
    "m1 = generate_mesh(0, 1, 1)\n",
    "\n",
    "e_dom = m1.get_element_domain(0)\n",
    "e_x0 = e_dom[0]\n",
    "e_x1 = e_dom[1]\n",
    "# print(f\"{e_x0}, {e_x1}\")\n",
    "mult = bs.mxm(e_x0, e_x1)\n",
    "inv_term = bs.x_xi_deriv_inv(e_x0, e_x1)\n",
    "# print(inv_term)\n",
    "# gen_ke(m1, 0)\n",
    "N_ab_xi_term = bs.N_a_xi(1) * bs.N_a_xi(1)\n",
    "ke_entry_incr = N_ab_xi_term * inv_term"
   ]
  },
  {
   "cell_type": "code",
   "execution_count": 17,
   "metadata": {},
   "outputs": [
    {
     "data": {
      "text/plain": [
       "0.25"
      ]
     },
     "execution_count": 17,
     "metadata": {},
     "output_type": "execute_result"
    }
   ],
   "source": [
    "def N_a_xi(idx):\n",
    "    neg = (-1)**idx\n",
    "    return neg / 2\n",
    "# THIS RETURNS POS/NEG 0.5, NOT 1\n",
    "\n",
    "def Nab(a,b):\n",
    "    return N_a_xi(a) * N_a_xi(b)\n",
    "# SO WITH TWO OF THEM, RETURNS POS/NEG 0.25\n",
    "# Nab(0,0) # +0.25\n",
    "# Nab(0,1) # -0.25\n"
   ]
  },
  {
   "cell_type": "code",
   "execution_count": 25,
   "metadata": {},
   "outputs": [
    {
     "name": "stdout",
     "output_type": "stream",
     "text": [
      "2.0\n",
      "-0.5\n"
     ]
    }
   ],
   "source": [
    "# ADD IN INVERSE X-XI MAP TERM:\n",
    "def x_xi_deriv_inv(e_x0, e_x1): \n",
    "    h_e = e_x1 - e_x0\n",
    "    return 2 / h_e\n",
    "# AND FOR ONE ELEMENT ON 0,1, WE GET:\n",
    "inv_term = x_xi_deriv_inv(0,1) # 2\n",
    "print(inv_term)\n",
    "# SO WITH THE ABOVE, WE HAVE A PRODUCT OF POS/NEG 0.5\n",
    "prod = x_xi_deriv_inv(0,1) * Nab(0,1)\n",
    "print(prod)\n",
    "# BUT THIS SHOULD COME OUT TO THE SAME AS THE STOCK MATRIX x 1/H_E"
   ]
  },
  {
   "cell_type": "code",
   "execution_count": 26,
   "metadata": {},
   "outputs": [
    {
     "data": {
      "text/plain": [
       "-1.0"
      ]
     },
     "execution_count": 26,
     "metadata": {},
     "output_type": "execute_result"
    }
   ],
   "source": [
    "# BUT WE ALSO HAVE TO INTEGRATE: WE DON'T GET STOCK MATRIX x 1/H_E FROM THE ABOVE PRODUCT. WE GET IT FROM EVALUATING THAT PRODUCT'S INTEGRAL FROM -1 TO 1\n",
    "\n",
    "upper = prod * 1 \n",
    "lower = prod * -1\n",
    "upper - lower\n",
    "\n",
    "# HOLY CRAP THAT'S IT. \n",
    "# NOW, GAUSS QUADRATURE SHOULD YIELD THE SAME THING:"
   ]
  },
  {
   "cell_type": "code",
   "execution_count": null,
   "metadata": {},
   "outputs": [],
   "source": []
  }
 ],
 "metadata": {
  "kernelspec": {
   "display_name": "Python 3 (ipykernel)",
   "language": "python",
   "name": "python3"
  },
  "language_info": {
   "codemirror_mode": {
    "name": "ipython",
    "version": 3
   },
   "file_extension": ".py",
   "mimetype": "text/x-python",
   "name": "python",
   "nbconvert_exporter": "python",
   "pygments_lexer": "ipython3",
   "version": "3.10.6"
  }
 },
 "nbformat": 4,
 "nbformat_minor": 5
}
