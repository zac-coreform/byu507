{
 "cells": [
  {
   "cell_type": "code",
   "execution_count": 5,
   "id": "653d4d12",
   "metadata": {},
   "outputs": [],
   "source": [
    "import basis as bs\n",
    "import mesh as mm\n",
    "import integrate as ig\n",
    "import assembly as asm\n",
    "import numpy.polynomial.legendre as lg\n",
    "import numpy as np"
   ]
  },
  {
   "cell_type": "code",
   "execution_count": 6,
   "metadata": {},
   "outputs": [],
   "source": [
    "class generate_mesh():\n",
    "    def __init__(self, phys_xmin, phys_xmax, n_elem):\n",
    "        self.phys_xmin = phys_xmin\n",
    "        self.phys_xmax = phys_xmax\n",
    "        self.n_elem = n_elem\n",
    "        \n",
    "        self.gen_all_nodes()\n",
    "        self.gen_elem_node_coord_indices()\n",
    "\n",
    "    def gen_all_nodes(self):\n",
    "        self.all_nodes = np.linspace(self.phys_xmin, self.phys_xmax, self.n_elem + 1)\n",
    "        return self.all_nodes\n",
    "    def gen_elem_node_coord_indices(self):\n",
    "        arr = np.zeros((2, self.n_elem), dtype=int)\n",
    "        for n in range(0, self.n_elem):\n",
    "            arr[0,n] = n\n",
    "            arr[1,n] = n+1\n",
    "        self.elem_node_coord_indices = arr\n",
    "        return self.elem_node_coord_indices\n",
    "    def get_element_domain(self, e):\n",
    "        n0_idx = int(self.elem_node_coord_indices[0,e])\n",
    "        n1_idx = int(self.elem_node_coord_indices[1,e])\n",
    "        self.element_domain = np.array((self.all_nodes[n0_idx], self.all_nodes[n1_idx]))\n",
    "        return self.element_domain"
   ]
  },
  {
   "cell_type": "code",
   "execution_count": 7,
   "metadata": {},
   "outputs": [],
   "source": [
    "\n",
    "def gen_ke(mesh, e):\n",
    "    # for e in range(0, self.n_elem):\n",
    "    # mx = bs.stock_mx()\n",
    "    mx_ = np.zeros((2,2))\n",
    "    e_dom = mesh.get_element_domain(e)\n",
    "    e_x0 = e_dom[0]\n",
    "    e_x1 = e_dom[1]\n",
    "    mx_mult = bs.mxm(e_x0, e_x1)\n",
    "    inv_term = bs.x_xi_deriv_inv(e_x0, e_x1)\n",
    "    for a in range(0,2):\n",
    "        N_a_xi_term = bs.N_a_xi(a)\n",
    "        for b in range(0,2):\n",
    "            N_b_xi_term = bs.N_a_xi(b)\n",
    "            ke_entry_incr = N_a_xi_term * N_b_xi_term * inv_term\n",
    "            mx_[a, b] += ke_entry_incr\n",
    "    ke = mx_\n",
    "    return ke"
   ]
  },
  {
   "cell_type": "code",
   "execution_count": 8,
   "metadata": {},
   "outputs": [],
   "source": [
    "m1 = generate_mesh(0, 1, 1)\n",
    "\n",
    "e_dom = m1.get_element_domain(0)\n",
    "e_x0 = e_dom[0]\n",
    "e_x1 = e_dom[1]\n",
    "# print(f\"{e_x0}, {e_x1}\")\n",
    "mult = bs.mxm(e_x0, e_x1)\n",
    "inv_term = bs.x_xi_deriv_inv(e_x0, e_x1)\n",
    "# print(inv_term)\n",
    "# gen_ke(m1, 0)\n",
    "N_ab_xi_term = bs.N_a_xi(1) * bs.N_a_xi(1)\n",
    "ke_entry_incr = N_ab_xi_term * inv_term"
   ]
  },
  {
   "cell_type": "code",
   "execution_count": 9,
   "metadata": {},
   "outputs": [],
   "source": [
    "def N_a_xi(idx):\n",
    "    neg = (-1)**idx\n",
    "    return neg / 2\n",
    "# THIS RETURNS POS/NEG 0.5, NOT 1\n",
    "\n",
    "def Nab(a,b):\n",
    "    return N_a_xi(a) * N_a_xi(b)\n",
    "# SO WITH TWO OF THEM, RETURNS POS/NEG 0.25\n",
    "# Nab(0,0) # +0.25\n",
    "# Nab(0,1) # -0.25\n"
   ]
  },
  {
   "cell_type": "code",
   "execution_count": 10,
   "metadata": {},
   "outputs": [
    {
     "name": "stdout",
     "output_type": "stream",
     "text": [
      "2.0\n"
     ]
    },
    {
     "data": {
      "text/plain": [
       "0.5"
      ]
     },
     "execution_count": 10,
     "metadata": {},
     "output_type": "execute_result"
    }
   ],
   "source": [
    "# ADD IN INVERSE X-XI MAP TERM:\n",
    "def x_xi_deriv_inv(e_x0, e_x1): \n",
    "    h_e = e_x1 - e_x0\n",
    "    return 2 / h_e\n",
    "# AND FOR ONE ELEMENT ON 0,1, WE GET:\n",
    "inv_term = x_xi_deriv_inv(0,1) # 2\n",
    "print(inv_term)\n",
    "# SO WITH THE ABOVE, WE HAVE A PRODUCT OF POS/NEG 0.5\n",
    "x_xi_deriv_inv(0,1) * Nab(0,0)\n",
    "# print(prod)\n",
    "# BUT THIS SHOULD COME OUT TO THE SAME AS THE STOCK MATRIX x 1/H_E"
   ]
  },
  {
   "cell_type": "code",
   "execution_count": 11,
   "metadata": {},
   "outputs": [
    {
     "data": {
      "text/plain": [
       "1.0"
      ]
     },
     "execution_count": 11,
     "metadata": {},
     "output_type": "execute_result"
    }
   ],
   "source": [
    "# BUT WE ALSO HAVE TO INTEGRATE: WE DON'T GET STOCK MATRIX x 1/H_E FROM THE ABOVE PRODUCT. WE GET IT FROM EVALUATING THAT PRODUCT'S INTEGRAL FROM -1 TO 1\n",
    "prod = x_xi_deriv_inv(0,1) * Nab(0,0)\n",
    "upper = prod * 1 \n",
    "lower = prod * -1\n",
    "upper - lower\n",
    "\n",
    "# HOLY CRAP THAT'S IT. \n",
    "# NOW, GAUSS QUADRATURE SHOULD YIELD THE SAME THING:"
   ]
  },
  {
   "cell_type": "code",
   "execution_count": 12,
   "metadata": {},
   "outputs": [
    {
     "ename": "NameError",
     "evalue": "name 'fn' is not defined",
     "output_type": "error",
     "traceback": [
      "\u001b[0;31m---------------------------------------------------------------------------\u001b[0m",
      "\u001b[0;31mNameError\u001b[0m                                 Traceback (most recent call last)",
      "\u001b[1;32m/Users/zwhite/Library/Mobile Documents/com~apple~CloudDocs/507/github/byu507/project2/test-ke-21.ipynb Cell 8\u001b[0m line \u001b[0;36m2\n\u001b[1;32m     <a href='vscode-notebook-cell:/Users/zwhite/Library/Mobile%20Documents/com~apple~CloudDocs/507/github/byu507/project2/test-ke-21.ipynb#X10sZmlsZQ%3D%3D?line=17'>18</a>\u001b[0m         out \u001b[39m+\u001b[39m\u001b[39m=\u001b[39m incr\n\u001b[1;32m     <a href='vscode-notebook-cell:/Users/zwhite/Library/Mobile%20Documents/com~apple~CloudDocs/507/github/byu507/project2/test-ke-21.ipynb#X10sZmlsZQ%3D%3D?line=18'>19</a>\u001b[0m     \u001b[39mreturn\u001b[39;00m out\n\u001b[0;32m---> <a href='vscode-notebook-cell:/Users/zwhite/Library/Mobile%20Documents/com~apple~CloudDocs/507/github/byu507/project2/test-ke-21.ipynb#X10sZmlsZQ%3D%3D?line=20'>21</a>\u001b[0m gquad(\u001b[39m0\u001b[39;49m,\u001b[39m1\u001b[39;49m,\u001b[39m1\u001b[39;49m)\n\u001b[1;32m     <a href='vscode-notebook-cell:/Users/zwhite/Library/Mobile%20Documents/com~apple~CloudDocs/507/github/byu507/project2/test-ke-21.ipynb#X10sZmlsZQ%3D%3D?line=21'>22</a>\u001b[0m \u001b[39m# WORKS! RETURNS 1: POS FOR A=B, NEG OTHERWISE\u001b[39;00m\n",
      "\u001b[1;32m/Users/zwhite/Library/Mobile Documents/com~apple~CloudDocs/507/github/byu507/project2/test-ke-21.ipynb Cell 8\u001b[0m line \u001b[0;36m1\n\u001b[1;32m     <a href='vscode-notebook-cell:/Users/zwhite/Library/Mobile%20Documents/com~apple~CloudDocs/507/github/byu507/project2/test-ke-21.ipynb#X10sZmlsZQ%3D%3D?line=14'>15</a>\u001b[0m     pt \u001b[39m=\u001b[39m pts[q]\n\u001b[1;32m     <a href='vscode-notebook-cell:/Users/zwhite/Library/Mobile%20Documents/com~apple~CloudDocs/507/github/byu507/project2/test-ke-21.ipynb#X10sZmlsZQ%3D%3D?line=15'>16</a>\u001b[0m     wt \u001b[39m=\u001b[39m wts[q]\n\u001b[0;32m---> <a href='vscode-notebook-cell:/Users/zwhite/Library/Mobile%20Documents/com~apple~CloudDocs/507/github/byu507/project2/test-ke-21.ipynb#X10sZmlsZQ%3D%3D?line=16'>17</a>\u001b[0m     incr \u001b[39m=\u001b[39m fn(pt,a,b) \u001b[39m*\u001b[39m wt\n\u001b[1;32m     <a href='vscode-notebook-cell:/Users/zwhite/Library/Mobile%20Documents/com~apple~CloudDocs/507/github/byu507/project2/test-ke-21.ipynb#X10sZmlsZQ%3D%3D?line=17'>18</a>\u001b[0m     out \u001b[39m+\u001b[39m\u001b[39m=\u001b[39m incr\n\u001b[1;32m     <a href='vscode-notebook-cell:/Users/zwhite/Library/Mobile%20Documents/com~apple~CloudDocs/507/github/byu507/project2/test-ke-21.ipynb#X10sZmlsZQ%3D%3D?line=18'>19</a>\u001b[0m \u001b[39mreturn\u001b[39;00m out\n",
      "\u001b[0;31mNameError\u001b[0m: name 'fn' is not defined"
     ]
    }
   ],
   "source": [
    "# def prodfn(a,b):\n",
    "#     return x_xi_deriv_inv(0,1) * Nab(a,b)\n",
    "\n",
    "# # pts, wts = ig.get_gauss_quadrature(3)\n",
    "# # wts\n",
    "\n",
    "# fnxab = lambda x, a, b: prodfn(a, b)\n",
    "# fnxab(0, 0,0) # 0.5, which is what we got before integrating above !\n",
    "\n",
    "# # makeshift gauss quadrature function\n",
    "# def gquad(a, b, n_quad):\n",
    "#     pts, wts = ig.get_gauss_quadrature(n_quad)\n",
    "#     out = 0\n",
    "#     for q in range(0, n_quad):\n",
    "#         pt = pts[q]\n",
    "#         wt = wts[q]\n",
    "#         incr = fn(pt,a,b) * wt\n",
    "#         out += incr\n",
    "#     return out\n",
    "\n",
    "# gquad(0,1,1)\n",
    "# # WORKS! RETURNS 1: POS FOR A=B, NEG OTHERWISE\n"
   ]
  },
  {
   "cell_type": "code",
   "execution_count": null,
   "metadata": {},
   "outputs": [],
   "source": [
    "# holy mama. now trying with lambda and the existing gq integration function:\n",
    "\n",
    "def integrate_by_quadrature2(function, x_lower, x_upper, n_quad, a_in, b_in):\n",
    "    # print(f\"\\nrunning quadrature for a={a_in}, b={b_in} \")\n",
    "    quad = ig.get_gauss_quadrature(n_quad)\n",
    "    gauss_points = quad[0]\n",
    "    # print(f\"pts={gauss_points}\")\n",
    "    gauss_weights = quad[1]\n",
    "    # print(f\"wts={gauss_weights}\")\n",
    "    jacobian = ig.get_jacobian(x_lower, x_upper)\n",
    "    # print(f\"J={jacobian}\")\n",
    "    integral = 0\n",
    "    fn = function(a=a_in, b=b_in)\n",
    "    print(f\"giving a_in, b_in to fnn yields: {fn}\")\n",
    "    print(f\"the resulting lambda should yield 0.5 for any xi\")\n",
    "    print(f\"testing: fn(xi=0) = {fn(xi=0)}\")\n",
    "    for p in range(0, len(gauss_points)): \n",
    "        # x = basis.map_xi_to_x(X0=x_lower, X1=x_upper, xi=gauss_points[p])\n",
    "        pt = gauss_points[p]\n",
    "        print(f'at {p}th point = {pt} with wt={gauss_weights[p]}')\n",
    "        function_val = fn(xi=pt)\n",
    "        print(f\"...fn val currently = {function_val}\")\n",
    "        incr = function_val * gauss_weights[p]\n",
    "        # incr = function_val * gauss_weights[p] * jacobian\n",
    "        integral += incr\n",
    "        print(f\"added increment={incr} for curr val of {integral}\")\n",
    "    return integral\n",
    "\n"
   ]
  },
  {
   "cell_type": "code",
   "execution_count": null,
   "metadata": {},
   "outputs": [
    {
     "name": "stdout",
     "output_type": "stream",
     "text": [
      "giving a_in, b_in to fnn yields: <function fnn.<locals>.<lambda> at 0x116886680>\n",
      "the resulting lambda should yield 0.5 for any xi\n",
      "testing: fn(xi=0) = -0.5\n",
      "at 0th point = 0.0 with wt=2.0\n",
      "...fn val currently = -0.5\n",
      "added increment=-1.0 for curr val of -1.0\n"
     ]
    },
    {
     "data": {
      "text/plain": [
       "-1.0"
      ]
     },
     "execution_count": 94,
     "metadata": {},
     "output_type": "execute_result"
    }
   ],
   "source": [
    "# HERE'S HOW TO WRITE THE FUNCTION_IN FOR QUADRATURE:\n",
    "def fnn(xi=0,a=0,b=0):\n",
    "    return lambda xi: prodfn(a,b)\n",
    "# fnn(a=1)(0) # --> returns 0.5 for all xi, but pos/neg dep on whether a=b\n",
    "# THIS WAY IT TAKES NO ARGS GOING IN, BUT YOU CAN USE THE A,B GOING INTO THE QUADRATURE FUNCTION AND THE XI GQ PTS\n",
    "\n",
    "integrate_by_quadrature2(function=fnn, x_lower=0, x_upper=1, n_quad=1, a_in=0, b_in=1)"
   ]
  },
  {
   "cell_type": "code",
   "execution_count": null,
   "metadata": {},
   "outputs": [
    {
     "ename": "NameError",
     "evalue": "name 'np' is not defined",
     "output_type": "error",
     "traceback": [
      "\u001b[0;31m---------------------------------------------------------------------------\u001b[0m",
      "\u001b[0;31mNameError\u001b[0m                                 Traceback (most recent call last)",
      "\u001b[1;32m/Users/zwhite/Library/Mobile Documents/com~apple~CloudDocs/507/github/byu507/project2/test-ke-21.ipynb Cell 11\u001b[0m line \u001b[0;36m1\n\u001b[0;32m----> <a href='vscode-notebook-cell:/Users/zwhite/Library/Mobile%20Documents/com~apple~CloudDocs/507/github/byu507/project2/test-ke-21.ipynb#X13sZmlsZQ%3D%3D?line=0'>1</a>\u001b[0m np\u001b[39m.\u001b[39marray(([\u001b[39m1.\u001b[39m, \u001b[39m-\u001b[39m\u001b[39m1.\u001b[39m], [\u001b[39m-\u001b[39m\u001b[39m1.\u001b[39m, \u001b[39m1.\u001b[39m]))\n",
      "\u001b[0;31mNameError\u001b[0m: name 'np' is not defined"
     ]
    }
   ],
   "source": [
    "np.array(([1., -1.], [-1., 1.]))"
   ]
  },
  {
   "cell_type": "code",
   "execution_count": null,
   "metadata": {},
   "outputs": [],
   "source": []
  }
 ],
 "metadata": {
  "kernelspec": {
   "display_name": "Python 3 (ipykernel)",
   "language": "python",
   "name": "python3"
  },
  "language_info": {
   "codemirror_mode": {
    "name": "ipython",
    "version": 3
   },
   "file_extension": ".py",
   "mimetype": "text/x-python",
   "name": "python",
   "nbconvert_exporter": "python",
   "pygments_lexer": "ipython3",
   "version": "3.10.6"
  }
 },
 "nbformat": 4,
 "nbformat_minor": 5
}
