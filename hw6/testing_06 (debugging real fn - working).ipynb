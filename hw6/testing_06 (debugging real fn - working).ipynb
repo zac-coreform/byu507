{
 "cells": [
  {
   "cell_type": "code",
   "execution_count": 5,
   "metadata": {},
   "outputs": [],
   "source": [
    "import hw6GaussianQuadrature as gq\n",
    "import unittest\n",
    "import hw6Basis_Functions as basis\n",
    "import inspect"
   ]
  },
  {
   "cell_type": "code",
   "execution_count": 12,
   "metadata": {},
   "outputs": [
    {
     "data": {
      "text/plain": [
       "4.000000000000001"
      ]
     },
     "execution_count": 12,
     "metadata": {},
     "output_type": "execute_result"
    }
   ],
   "source": [
    "std_g3 = gq.Gauss_Quadrature(3)\n",
    "u_g3 = gq.Gauss_Quadrature(3, 0, 1)\n",
    "\n",
    "f1 = lambda x: 1\n",
    "f2x = lambda x: x*2\n",
    "fx2 = lambda x: x**2\n",
    "# std_g3.integrate_by_quadrature(f2x, 3, 7) # 40.00000000000001\n",
    "# u_g3.integrate_by_quadrature(f2x, 3, 7) # 40.00000000000001\n",
    "\n",
    "# std_g3.integrate_by_quadrature(fx2, 3, 7) # 105.33333333333334\n",
    "# u_g3.integrate_by_quadrature(fx2, 3, 7) # 105.33333333333334\n",
    "\n",
    "# std_g3.integrate_by_quadrature(f1, 3, 7) # 4.000000000000001\n",
    "# u_g3.integrate_by_quadrature(f1, 3, 7) # 4.000000000000001"
   ]
  },
  {
   "cell_type": "code",
   "execution_count": null,
   "metadata": {},
   "outputs": [],
   "source": []
  }
 ],
 "metadata": {
  "kernelspec": {
   "display_name": "Python 3",
   "language": "python",
   "name": "python3"
  },
  "language_info": {
   "codemirror_mode": {
    "name": "ipython",
    "version": 3
   },
   "file_extension": ".py",
   "mimetype": "text/x-python",
   "name": "python",
   "nbconvert_exporter": "python",
   "pygments_lexer": "ipython3",
   "version": "3.10.6"
  }
 },
 "nbformat": 4,
 "nbformat_minor": 2
}
