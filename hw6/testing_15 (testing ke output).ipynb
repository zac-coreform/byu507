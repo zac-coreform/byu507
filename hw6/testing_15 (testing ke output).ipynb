{
 "cells": [
  {
   "cell_type": "code",
   "execution_count": 1,
   "metadata": {},
   "outputs": [],
   "source": [
    "import hw6Gauss_Quadrature as gq\n",
    "import unittest\n",
    "import hw6Basis_Functions as bf\n",
    "import inspect\n",
    "import hw6Poisson_1D as pp\n",
    "import hw6Boundary_Conditions as bc\n",
    "import math\n",
    "import functools as ft\n",
    "import numpy as np\n",
    "import matplotlib.pyplot as plt\n"
   ]
  },
  {
   "cell_type": "code",
   "execution_count": 2,
   "metadata": {},
   "outputs": [
    {
     "data": {
      "text/plain": [
       "array([[0, 2, 4, 6],\n",
       "       [1, 3, 5, 7],\n",
       "       [2, 4, 6, 8]])"
      ]
     },
     "execution_count": 2,
     "metadata": {},
     "output_type": "execute_result"
    }
   ],
   "source": [
    "ien = pp.CreateIENArray(deg=2, n_elem=4)\n",
    "ien\n",
    "\n"
   ]
  },
  {
   "cell_type": "code",
   "execution_count": 3,
   "metadata": {},
   "outputs": [
    {
     "data": {
      "text/plain": [
       "array([ 0,  1,  2,  3,  4,  5,  6,  7, -1])"
      ]
     },
     "execution_count": 3,
     "metadata": {},
     "output_type": "execute_result"
    }
   ],
   "source": [
    "bcl = bc.BoundaryCondition(\"left\", \"Neu\", 0, 1, 0)\n",
    "bcr = bc.BoundaryCondition(\"right\", \"Dir\", 1, 0, 0)\n",
    "\n",
    "id = pp.CreateIDArray(bc_left=bcl, bc_right=bcr, deg=2, n_elem=4)\n",
    "id"
   ]
  },
  {
   "cell_type": "code",
   "execution_count": 5,
   "metadata": {},
   "outputs": [
    {
     "data": {
      "text/plain": [
       "array([[ 5.33333333, -2.66666667, -2.66666667],\n",
       "       [-2.66666667,  5.33333333, -2.66666667],\n",
       "       [-2.66666667, -2.66666667,  5.33333333]])"
      ]
     },
     "execution_count": 5,
     "metadata": {},
     "output_type": "execute_result"
    }
   ],
   "source": [
    "xvals = pp.CreateXVals(0,1,ien)\n",
    "# xvals\n",
    "\n",
    "# LocalStiffness(e, xvals, bc_left, bc_right, deg)\n",
    "ke = pp.LocalStiffness(e=0, xvals=xvals, bc_left=bcl, bc_right=bcr, deg=2)\n",
    "ke"
   ]
  },
  {
   "cell_type": "code",
   "execution_count": null,
   "metadata": {},
   "outputs": [],
   "source": [
    "fe = pp.LocalForce(e=0,xvals=xvals,n_elem_funcs=3,bc_left=bcl, bc_right=bcr,)"
   ]
  }
 ],
 "metadata": {
  "kernelspec": {
   "display_name": "Python 3",
   "language": "python",
   "name": "python3"
  },
  "language_info": {
   "codemirror_mode": {
    "name": "ipython",
    "version": 3
   },
   "file_extension": ".py",
   "mimetype": "text/x-python",
   "name": "python",
   "nbconvert_exporter": "python",
   "pygments_lexer": "ipython3",
   "version": "3.10.6"
  }
 },
 "nbformat": 4,
 "nbformat_minor": 2
}
